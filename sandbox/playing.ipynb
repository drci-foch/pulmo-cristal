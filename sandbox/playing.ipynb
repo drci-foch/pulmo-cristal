{
 "cells": [
  {
   "cell_type": "markdown",
   "metadata": {},
   "source": [
    "# Using the pulmo-cristal Package\n",
    "## This guide shows how to use the pulmo-cristal package for extracting and processing data from donor PDF documents.\n"
   ]
  },
  {
   "cell_type": "markdown",
   "metadata": {},
   "source": [
    "### Installation"
   ]
  },
  {
   "cell_type": "code",
   "execution_count": 1,
   "metadata": {},
   "outputs": [
    {
     "name": "stdout",
     "output_type": "stream",
     "text": [
      "Found existing installation: pulmo-cristal 0.1.0\n",
      "Uninstalling pulmo-cristal-0.1.0:\n",
      "  Successfully uninstalled pulmo-cristal-0.1.0\n",
      "Found existing installation: camelot-py 1.0.0\n",
      "Uninstalling camelot-py-1.0.0:\n",
      "  Successfully uninstalled camelot-py-1.0.0\n"
     ]
    }
   ],
   "source": [
    "# Install the package from GitHub\n",
    "!pip uninstall pulmo-cristal -y\n",
    "!pip uninstall camelot-py -y"
   ]
  },
  {
   "cell_type": "code",
   "execution_count": 2,
   "metadata": {},
   "outputs": [
    {
     "name": "stdout",
     "output_type": "stream",
     "text": [
      "Collecting pulmo-cristal\n",
      "  Downloading pulmo_cristal-0.1.0-py3-none-any.whl.metadata (608 bytes)\n",
      "Requirement already satisfied: PyPDF2>=3.0.0 in /Users/sarrabenyahia/Documents/GitHub/pulmo-cristal/venv/lib/python3.11/site-packages (from pulmo-cristal) (3.0.1)\n",
      "Collecting camelot-py>=1.0.0 (from pulmo-cristal)\n",
      "  Using cached camelot_py-1.0.0-py3-none-any.whl.metadata (9.4 kB)\n",
      "Requirement already satisfied: opencv-python-headless>=4.5.0 in /Users/sarrabenyahia/Documents/GitHub/pulmo-cristal/venv/lib/python3.11/site-packages (from pulmo-cristal) (4.11.0.86)\n",
      "Requirement already satisfied: ghostscript>=0.7 in /Users/sarrabenyahia/Documents/GitHub/pulmo-cristal/venv/lib/python3.11/site-packages (from pulmo-cristal) (0.8.1)\n",
      "Requirement already satisfied: numpy>=1.20.0 in /Users/sarrabenyahia/Documents/GitHub/pulmo-cristal/venv/lib/python3.11/site-packages (from pulmo-cristal) (2.3.0)\n",
      "Requirement already satisfied: pandas>=1.3.0 in /Users/sarrabenyahia/Documents/GitHub/pulmo-cristal/venv/lib/python3.11/site-packages (from pulmo-cristal) (2.3.0)\n",
      "Requirement already satisfied: click>=8.0.1 in /Users/sarrabenyahia/Documents/GitHub/pulmo-cristal/venv/lib/python3.11/site-packages (from camelot-py>=1.0.0->pulmo-cristal) (8.2.1)\n",
      "Requirement already satisfied: chardet>=5.1.0 in /Users/sarrabenyahia/Documents/GitHub/pulmo-cristal/venv/lib/python3.11/site-packages (from camelot-py>=1.0.0->pulmo-cristal) (5.2.0)\n",
      "Requirement already satisfied: openpyxl>=3.1.0 in /Users/sarrabenyahia/Documents/GitHub/pulmo-cristal/venv/lib/python3.11/site-packages (from camelot-py>=1.0.0->pulmo-cristal) (3.1.5)\n",
      "Requirement already satisfied: pdfminer-six>=20240706 in /Users/sarrabenyahia/Documents/GitHub/pulmo-cristal/venv/lib/python3.11/site-packages (from camelot-py>=1.0.0->pulmo-cristal) (20250506)\n",
      "Requirement already satisfied: pypdf<4.0,>=3.17 in /Users/sarrabenyahia/Documents/GitHub/pulmo-cristal/venv/lib/python3.11/site-packages (from camelot-py>=1.0.0->pulmo-cristal) (3.17.4)\n",
      "Requirement already satisfied: tabulate>=0.9.0 in /Users/sarrabenyahia/Documents/GitHub/pulmo-cristal/venv/lib/python3.11/site-packages (from camelot-py>=1.0.0->pulmo-cristal) (0.9.0)\n",
      "Requirement already satisfied: pypdfium2>=4 in /Users/sarrabenyahia/Documents/GitHub/pulmo-cristal/venv/lib/python3.11/site-packages (from camelot-py>=1.0.0->pulmo-cristal) (4.30.1)\n",
      "Requirement already satisfied: python-dateutil>=2.8.2 in /Users/sarrabenyahia/Documents/GitHub/pulmo-cristal/venv/lib/python3.11/site-packages (from pandas>=1.3.0->pulmo-cristal) (2.9.0.post0)\n",
      "Requirement already satisfied: pytz>=2020.1 in /Users/sarrabenyahia/Documents/GitHub/pulmo-cristal/venv/lib/python3.11/site-packages (from pandas>=1.3.0->pulmo-cristal) (2025.2)\n",
      "Requirement already satisfied: tzdata>=2022.7 in /Users/sarrabenyahia/Documents/GitHub/pulmo-cristal/venv/lib/python3.11/site-packages (from pandas>=1.3.0->pulmo-cristal) (2025.2)\n",
      "Requirement already satisfied: et-xmlfile in /Users/sarrabenyahia/Documents/GitHub/pulmo-cristal/venv/lib/python3.11/site-packages (from openpyxl>=3.1.0->camelot-py>=1.0.0->pulmo-cristal) (2.0.0)\n",
      "Requirement already satisfied: charset-normalizer>=2.0.0 in /Users/sarrabenyahia/Documents/GitHub/pulmo-cristal/venv/lib/python3.11/site-packages (from pdfminer-six>=20240706->camelot-py>=1.0.0->pulmo-cristal) (3.4.2)\n",
      "Requirement already satisfied: cryptography>=36.0.0 in /Users/sarrabenyahia/Documents/GitHub/pulmo-cristal/venv/lib/python3.11/site-packages (from pdfminer-six>=20240706->camelot-py>=1.0.0->pulmo-cristal) (45.0.4)\n",
      "Requirement already satisfied: six>=1.5 in /Users/sarrabenyahia/Documents/GitHub/pulmo-cristal/venv/lib/python3.11/site-packages (from python-dateutil>=2.8.2->pandas>=1.3.0->pulmo-cristal) (1.17.0)\n",
      "Requirement already satisfied: cffi>=1.14 in /Users/sarrabenyahia/Documents/GitHub/pulmo-cristal/venv/lib/python3.11/site-packages (from cryptography>=36.0.0->pdfminer-six>=20240706->camelot-py>=1.0.0->pulmo-cristal) (1.17.1)\n",
      "Requirement already satisfied: pycparser in /Users/sarrabenyahia/Documents/GitHub/pulmo-cristal/venv/lib/python3.11/site-packages (from cffi>=1.14->cryptography>=36.0.0->pdfminer-six>=20240706->camelot-py>=1.0.0->pulmo-cristal) (2.22)\n",
      "Downloading pulmo_cristal-0.1.0-py3-none-any.whl (47 kB)\n",
      "Using cached camelot_py-1.0.0-py3-none-any.whl (66 kB)\n",
      "Installing collected packages: camelot-py, pulmo-cristal\n",
      "Successfully installed camelot-py-1.0.0 pulmo-cristal-0.1.0\n",
      "\n",
      "\u001b[1m[\u001b[0m\u001b[34;49mnotice\u001b[0m\u001b[1;39;49m]\u001b[0m\u001b[39;49m A new release of pip is available: \u001b[0m\u001b[31;49m24.3.1\u001b[0m\u001b[39;49m -> \u001b[0m\u001b[32;49m25.1.1\u001b[0m\n",
      "\u001b[1m[\u001b[0m\u001b[34;49mnotice\u001b[0m\u001b[1;39;49m]\u001b[0m\u001b[39;49m To update, run: \u001b[0m\u001b[32;49mpip install --upgrade pip\u001b[0m\n"
     ]
    }
   ],
   "source": [
    "!pip install pulmo-cristal"
   ]
  },
  {
   "cell_type": "markdown",
   "metadata": {},
   "source": [
    "### Getting Started\n",
    "Let's check if the package is correctly installed:"
   ]
  },
  {
   "cell_type": "code",
   "execution_count": 3,
   "metadata": {},
   "outputs": [
    {
     "name": "stdout",
     "output_type": "stream",
     "text": [
      "/Users/sarrabenyahia/Documents/GitHub/pulmo-cristal/venv/lib/python3.11/site-packages/pypdf/_crypt_providers/_cryptography.py:32: CryptographyDeprecationWarning: ARC4 has been moved to cryptography.hazmat.decrepit.ciphers.algorithms.ARC4 and will be removed from cryptography.hazmat.primitives.ciphers.algorithms in 48.0.0.\n",
      "  from cryptography.hazmat.primitives.ciphers.algorithms import AES, ARC4\n",
      "pulmo-cristal 0.1.0\n"
     ]
    }
   ],
   "source": [
    "# Check the package version\n",
    "!pulmo-cristal --version"
   ]
  },
  {
   "cell_type": "code",
   "execution_count": 4,
   "metadata": {},
   "outputs": [
    {
     "name": "stdout",
     "output_type": "stream",
     "text": [
      "/Users/sarrabenyahia/Documents/GitHub/pulmo-cristal/venv/lib/python3.11/site-packages/pypdf/_crypt_providers/_cryptography.py:32: CryptographyDeprecationWarning: ARC4 has been moved to cryptography.hazmat.decrepit.ciphers.algorithms.ARC4 and will be removed from cryptography.hazmat.primitives.ciphers.algorithms in 48.0.0.\n",
      "  from cryptography.hazmat.primitives.ciphers.algorithms import AES, ARC4\n",
      "usage: pulmo-cristal [-h] [--version] [--verbose]\n",
      "                     {extract,list,convert,validate} ...\n",
      "\n",
      "Extract data from donor PDF documents.\n",
      "\n",
      "positional arguments:\n",
      "  {extract,list,convert,validate}\n",
      "                        Command to execute\n",
      "    extract             Extract data from PDF files\n",
      "    list                List PDF files in a directory\n",
      "    convert             Convert between output formats\n",
      "    validate            Validate extracted data\n",
      "\n",
      "options:\n",
      "  -h, --help            show this help message and exit\n",
      "  --version, -V         show program's version number and exit\n",
      "  --verbose, -v         Increase verbosity (can be used multiple times)\n",
      "                        (default: 0)\n"
     ]
    }
   ],
   "source": [
    "# View available commands\n",
    "!pulmo-cristal --help"
   ]
  },
  {
   "cell_type": "markdown",
   "metadata": {},
   "source": [
    "### Finding PDF Files\n",
    "First, let's see what PDF files we have available:"
   ]
  },
  {
   "cell_type": "code",
   "execution_count": 5,
   "metadata": {},
   "outputs": [
    {
     "name": "stdout",
     "output_type": "stream",
     "text": [
      "sample_pdfs/\n",
      "├── subfolder_test/\n",
      "│   ├── patient3.pdf\n",
      "│   └── patient_test_2.pdf\n",
      "├── 235350.LEGENDRE SURLIGNE BIS .pdf\n",
      "├── patient1.pdf\n",
      "├── patient2.pdf\n",
      "├── patient_test_1.pdf\n",
      "└── patient_test_2.pdf\n",
      "\n",
      "Total: 1 directories, 7 files\n"
     ]
    }
   ],
   "source": [
    "from pulmo_cristal.utils import find_pdf_files, list_directory_tree\n",
    "import os\n",
    "\n",
    "# Set the path to your directory containing existing PDFs\n",
    "pdf_dir = \"./sample_pdfs\"  # Change this to your actual path\n",
    "\n",
    "# Print directory tree to see the structure\n",
    "tree = list_directory_tree(pdf_dir, max_depth=2, file_types=[\".pdf\"])\n",
    "print(tree)"
   ]
  },
  {
   "cell_type": "code",
   "execution_count": 6,
   "metadata": {},
   "outputs": [
    {
     "name": "stdout",
     "output_type": "stream",
     "text": [
      "Found 7 PDF files\n",
      "\n",
      "Sample of PDF files found:\n",
      "  - sample_pdfs/patient2.pdf\n",
      "  - sample_pdfs/patient1.pdf\n",
      "  - sample_pdfs/235350.LEGENDRE SURLIGNE BIS .pdf\n",
      "  - sample_pdfs/patient_test_1.pdf\n",
      "  - sample_pdfs/patient_test_2.pdf\n"
     ]
    }
   ],
   "source": [
    "# Find all PDF files in the directory\n",
    "pdf_files = find_pdf_files(pdf_dir, recursive=True)\n",
    "print(f\"Found {len(pdf_files)} PDF files\")\n",
    "\n",
    "# Display the first few files\n",
    "if pdf_files:\n",
    "    print(\"\\nSample of PDF files found:\")\n",
    "    for pdf in pdf_files[:5]:\n",
    "        print(f\"  - {pdf}\")"
   ]
  },
  {
   "cell_type": "markdown",
   "metadata": {},
   "source": [
    "### Extracting Data from a PDF\n",
    "Now let's extract data from our sample PDF:"
   ]
  },
  {
   "cell_type": "code",
   "execution_count": 7,
   "metadata": {},
   "outputs": [
    {
     "name": "stderr",
     "output_type": "stream",
     "text": [
      "/Users/sarrabenyahia/Documents/GitHub/pulmo-cristal/venv/lib/python3.11/site-packages/pypdf/_crypt_providers/_cryptography.py:32: CryptographyDeprecationWarning: ARC4 has been moved to cryptography.hazmat.decrepit.ciphers.algorithms.ARC4 and will be removed from cryptography.hazmat.primitives.ciphers.algorithms in 48.0.0.\n",
      "  from cryptography.hazmat.primitives.ciphers.algorithms import AES, ARC4\n",
      "2025-06-18 23:13:42,140 - DonorPDFExtractor - INFO - Extracting text from PDF: sample_pdfs/patient2.pdf\n",
      "2025-06-18 23:13:42,143 - DonorPDFExtractor - INFO - PDF contains 22 pages\n",
      "2025-06-18 23:13:42,159 - DonorPDFExtractor - INFO - Page 1/22: Extracted 1224 characters\n",
      "2025-06-18 23:13:42,160 - DonorPDFExtractor - INFO - Page 2/22: Extracted 85 characters\n",
      "2025-06-18 23:13:42,168 - DonorPDFExtractor - INFO - Page 3/22: Extracted 1546 characters\n",
      "2025-06-18 23:13:42,200 - DonorPDFExtractor - INFO - Page 4/22: Extracted 720 characters\n",
      "2025-06-18 23:13:42,204 - DonorPDFExtractor - INFO - Page 5/22: Extracted 398 characters\n",
      "2025-06-18 23:13:42,208 - DonorPDFExtractor - INFO - Page 6/22: Extracted 429 characters\n",
      "2025-06-18 23:13:42,212 - DonorPDFExtractor - INFO - Page 7/22: Extracted 490 characters\n",
      "2025-06-18 23:13:42,216 - DonorPDFExtractor - INFO - Page 8/22: Extracted 367 characters\n",
      "2025-06-18 23:13:42,226 - DonorPDFExtractor - INFO - Page 9/22: Extracted 1070 characters\n",
      "2025-06-18 23:13:42,235 - DonorPDFExtractor - INFO - Page 10/22: Extracted 762 characters\n",
      "2025-06-18 23:13:42,243 - DonorPDFExtractor - INFO - Page 11/22: Extracted 608 characters\n",
      "2025-06-18 23:13:42,251 - DonorPDFExtractor - INFO - Page 12/22: Extracted 738 characters\n",
      "2025-06-18 23:13:42,259 - DonorPDFExtractor - INFO - Page 13/22: Extracted 911 characters\n",
      "2025-06-18 23:13:42,268 - DonorPDFExtractor - INFO - Page 14/22: Extracted 1259 characters\n",
      "2025-06-18 23:13:42,272 - DonorPDFExtractor - INFO - Page 15/22: Extracted 250 characters\n",
      "2025-06-18 23:13:42,276 - DonorPDFExtractor - INFO - Page 16/22: Extracted 558 characters\n",
      "2025-06-18 23:13:42,289 - DonorPDFExtractor - INFO - Page 17/22: Extracted 570 characters\n",
      "2025-06-18 23:13:42,298 - DonorPDFExtractor - INFO - Page 18/22: Extracted 2109 characters\n",
      "2025-06-18 23:13:42,300 - DonorPDFExtractor - INFO - Page 19/22: Extracted 134 characters\n",
      "2025-06-18 23:13:42,310 - DonorPDFExtractor - INFO - Page 20/22: Extracted 1062 characters\n",
      "2025-06-18 23:13:42,319 - DonorPDFExtractor - INFO - Page 21/22: Extracted 846 characters\n",
      "2025-06-18 23:13:42,320 - DonorPDFExtractor - INFO - Page 22/22: Extracted 99 characters\n",
      "2025-06-18 23:13:42,321 - DonorPDFExtractor - INFO - Total extracted text: 16277 characters\n",
      "2025-06-18 23:13:42,331 - HLAExtractor - INFO - Extracting HLA data from sample_pdfs/patient2.pdf using original approach\n"
     ]
    },
    {
     "name": "stdout",
     "output_type": "stream",
     "text": [
      "Processing: sample_pdfs/patient2.pdf\n",
      "\n",
      "Extracted Donor Information:\n",
      "  num_cristal: 175862\n",
      "  type_donneur: Donneur prélevé, organe greffé\n",
      "Coeur Battant (SME)\n",
      "  age: 62\n",
      "  sexe: F\n",
      "  groupe_sanguin: A  +\n",
      "  date_naissance: 13/03/1957\n",
      "  taille: 157\n",
      "  poids: 46.5\n",
      "  date_clampage: 16/01/2020\n",
      "  heure_clampage: 13:01\n",
      "  etiologie: Traumatique A.V.P.\n",
      "  duree_ventilation: 5\n",
      "  commentaire: s\n",
      "Page 22 sur  22 Edité le 29 novembre 2022 à 18h37\n",
      "  hla_extraction_status: OK\n",
      "\n",
      "Extracted HLA Data:\n",
      "  A1: 3\n",
      "  A2: 24\n",
      "  B1: 8\n",
      "  B2: 35\n",
      "  C1: 7\n",
      "  C2: 0\n",
      "  DR1: 8\n",
      "  DR2: 17\n",
      "  DQA: 0\n",
      "  DQB: 7\n",
      "  DP1: 4\n",
      "  DP2: 6\n"
     ]
    }
   ],
   "source": [
    "from pulmo_cristal.extractors import DonorPDFExtractor, HLAExtractor\n",
    "\n",
    "# Select a sample PDF to process\n",
    "sample_pdf = pdf_files[0] if pdf_files else None\n",
    "\n",
    "if sample_pdf:\n",
    "    print(f\"Processing: {sample_pdf}\")\n",
    "\n",
    "    # Initialize extractors\n",
    "    donor_extractor = DonorPDFExtractor()\n",
    "    hla_extractor = HLAExtractor()\n",
    "\n",
    "    try:\n",
    "        # Extract donor data\n",
    "        donor_data = donor_extractor.extract_donor_data(sample_pdf)\n",
    "\n",
    "        # Extract HLA data\n",
    "        hla_data, hla_status = hla_extractor.extract_hla_data(sample_pdf)\n",
    "\n",
    "        # Add HLA data to donor data\n",
    "        donor_data[\"informations_donneur\"][\"hla\"] = hla_data\n",
    "        donor_data[\"informations_donneur\"][\"hla_extraction_status\"] = hla_status\n",
    "\n",
    "        # Display extracted data\n",
    "        print(\"\\nExtracted Donor Information:\")\n",
    "        for key, value in donor_data[\"informations_donneur\"].items():\n",
    "            if key != \"hla\":  # Skip HLA for now\n",
    "                print(f\"  {key}: {value}\")\n",
    "\n",
    "        print(\"\\nExtracted HLA Data:\")\n",
    "        for key, value in hla_data.items():\n",
    "            print(f\"  {key}: {value}\")\n",
    "\n",
    "    except Exception as e:\n",
    "        print(f\"Error extracting data: {e}\")\n",
    "else:\n",
    "    print(\"No PDF files found to process\")"
   ]
  },
  {
   "cell_type": "markdown",
   "metadata": {},
   "source": [
    "### Converting to a Structured Model\n",
    "Convert the raw extracted data to a structured Donneur model:"
   ]
  },
  {
   "cell_type": "code",
   "execution_count": 8,
   "metadata": {},
   "outputs": [
    {
     "name": "stdout",
     "output_type": "stream",
     "text": [
      "Donor ID: 175862\n",
      "Donor Type: DonneurType.INCONNU\n",
      "Age: 62\n",
      "Sex: SexeType.FEMME\n",
      "\n",
      "Validation Result: Valid\n"
     ]
    }
   ],
   "source": [
    "from pulmo_cristal.models import Donneur\n",
    "\n",
    "if \"donor_data\" in locals():\n",
    "    try:\n",
    "        # Convert to Donneur model\n",
    "        donneur = Donneur.from_dict(donor_data)\n",
    "\n",
    "        # Display basic model information\n",
    "        print(f\"Donor ID: {donneur.id}\")\n",
    "        print(f\"Donor Type: {donneur.type_donneur}\")\n",
    "        print(f\"Age: {donneur.age}\")\n",
    "        print(f\"Sex: {donneur.sexe}\")\n",
    "\n",
    "        # Validate the model\n",
    "        is_valid = donneur.validate()\n",
    "        print(f\"\\nValidation Result: {'Valid' if is_valid else 'Invalid'}\")\n",
    "        if not is_valid and hasattr(donneur, \"validation_errors\"):\n",
    "            print(\"Validation Errors:\")\n",
    "            for error in donneur.validation_errors:\n",
    "                print(f\"  - {error}\")\n",
    "    except Exception as e:\n",
    "        print(f\"Error converting to model: {e}\")"
   ]
  },
  {
   "cell_type": "markdown",
   "metadata": {},
   "source": [
    "### Exporting Data to JSON and CSV\n",
    "Now let's export the extracted data to JSON and CSV formats:"
   ]
  },
  {
   "cell_type": "code",
   "execution_count": 9,
   "metadata": {},
   "outputs": [
    {
     "name": "stderr",
     "output_type": "stream",
     "text": [
      "2025-06-18 23:13:42,608 - DonorJSONExporter - INFO - JSON file generated successfully: output/donor_data_20250618_231342.json\n",
      "2025-06-18 23:13:42,610 - DonorCSVExporter - INFO - CSV file generated successfully: output/donor_data_20250618_231342.csv\n"
     ]
    },
    {
     "name": "stdout",
     "output_type": "stream",
     "text": [
      "Exported JSON to: ./output/donor_data.json\n",
      "Exported CSV to: ./output/donor_data.csv\n"
     ]
    }
   ],
   "source": [
    "from pulmo_cristal.exporters import DonorJSONExporter, DonorCSVExporter\n",
    "\n",
    "# Create output directory\n",
    "output_dir = \"./output\"\n",
    "os.makedirs(output_dir, exist_ok=True)\n",
    "\n",
    "if \"donor_data\" in locals():\n",
    "    # Initialize exporters\n",
    "    json_exporter = DonorJSONExporter()\n",
    "    csv_exporter = DonorCSVExporter()\n",
    "\n",
    "    try:\n",
    "        # Export to JSON\n",
    "        json_path = os.path.join(output_dir, \"donor_data.json\")\n",
    "        json_exporter.export_json([donor_data], json_path)\n",
    "        print(f\"Exported JSON to: {json_path}\")\n",
    "\n",
    "        # Export to CSV\n",
    "        csv_path = os.path.join(output_dir, \"donor_data.csv\")\n",
    "        csv_exporter.export_csv([donor_data], csv_path)\n",
    "        print(f\"Exported CSV to: {csv_path}\")\n",
    "    except Exception as e:\n",
    "        print(f\"Error exporting data: {e}\")"
   ]
  },
  {
   "cell_type": "markdown",
   "metadata": {},
   "source": [
    "## Processing Multiple Files\n",
    "For processing all your existing PDFs in batches:"
   ]
  },
  {
   "cell_type": "code",
   "execution_count": 10,
   "metadata": {},
   "outputs": [
    {
     "name": "stderr",
     "output_type": "stream",
     "text": [
      "2025-06-18 23:13:42,618 - DonorPDFExtractor - INFO - Extracting text from PDF: sample_pdfs/patient2.pdf\n",
      "2025-06-18 23:13:42,622 - DonorPDFExtractor - INFO - PDF contains 22 pages\n",
      "2025-06-18 23:13:42,638 - DonorPDFExtractor - INFO - Page 1/22: Extracted 1224 characters\n",
      "2025-06-18 23:13:42,639 - DonorPDFExtractor - INFO - Page 2/22: Extracted 85 characters\n",
      "2025-06-18 23:13:42,648 - DonorPDFExtractor - INFO - Page 3/22: Extracted 1546 characters\n",
      "2025-06-18 23:13:42,657 - DonorPDFExtractor - INFO - Page 4/22: Extracted 720 characters\n",
      "2025-06-18 23:13:42,661 - DonorPDFExtractor - INFO - Page 5/22: Extracted 398 characters\n",
      "2025-06-18 23:13:42,664 - DonorPDFExtractor - INFO - Page 6/22: Extracted 429 characters\n",
      "2025-06-18 23:13:42,668 - DonorPDFExtractor - INFO - Page 7/22: Extracted 490 characters\n",
      "2025-06-18 23:13:42,672 - DonorPDFExtractor - INFO - Page 8/22: Extracted 367 characters\n",
      "2025-06-18 23:13:42,683 - DonorPDFExtractor - INFO - Page 9/22: Extracted 1070 characters\n",
      "2025-06-18 23:13:42,692 - DonorPDFExtractor - INFO - Page 10/22: Extracted 762 characters\n",
      "2025-06-18 23:13:42,701 - DonorPDFExtractor - INFO - Page 11/22: Extracted 608 characters\n",
      "2025-06-18 23:13:42,709 - DonorPDFExtractor - INFO - Page 12/22: Extracted 738 characters\n",
      "2025-06-18 23:13:42,744 - DonorPDFExtractor - INFO - Page 13/22: Extracted 911 characters\n",
      "2025-06-18 23:13:42,754 - DonorPDFExtractor - INFO - Page 14/22: Extracted 1259 characters\n",
      "2025-06-18 23:13:42,757 - DonorPDFExtractor - INFO - Page 15/22: Extracted 250 characters\n",
      "2025-06-18 23:13:42,761 - DonorPDFExtractor - INFO - Page 16/22: Extracted 558 characters\n",
      "2025-06-18 23:13:42,773 - DonorPDFExtractor - INFO - Page 17/22: Extracted 570 characters\n",
      "2025-06-18 23:13:42,783 - DonorPDFExtractor - INFO - Page 18/22: Extracted 2109 characters\n",
      "2025-06-18 23:13:42,784 - DonorPDFExtractor - INFO - Page 19/22: Extracted 134 characters\n"
     ]
    },
    {
     "name": "stdout",
     "output_type": "stream",
     "text": [
      "\n",
      "Processing batch 1/2\n"
     ]
    },
    {
     "name": "stderr",
     "output_type": "stream",
     "text": [
      "2025-06-18 23:13:42,794 - DonorPDFExtractor - INFO - Page 20/22: Extracted 1062 characters\n",
      "2025-06-18 23:13:42,805 - DonorPDFExtractor - INFO - Page 21/22: Extracted 846 characters\n",
      "2025-06-18 23:13:42,808 - DonorPDFExtractor - INFO - Page 22/22: Extracted 99 characters\n",
      "2025-06-18 23:13:42,808 - DonorPDFExtractor - INFO - Total extracted text: 16277 characters\n",
      "2025-06-18 23:13:42,821 - HLAExtractor - INFO - Extracting HLA data from sample_pdfs/patient2.pdf using original approach\n",
      "2025-06-18 23:13:43,132 - DonorPDFExtractor - INFO - Extracting text from PDF: sample_pdfs/patient1.pdf\n",
      "2025-06-18 23:13:43,135 - DonorPDFExtractor - INFO - PDF contains 21 pages\n",
      "2025-06-18 23:13:43,173 - DonorPDFExtractor - INFO - Page 1/21: Extracted 1377 characters\n",
      "2025-06-18 23:13:43,175 - DonorPDFExtractor - INFO - Page 2/21: Extracted 92 characters\n",
      "2025-06-18 23:13:43,183 - DonorPDFExtractor - INFO - Page 3/21: Extracted 1444 characters\n",
      "2025-06-18 23:13:43,191 - DonorPDFExtractor - INFO - Page 4/21: Extracted 719 characters\n",
      "2025-06-18 23:13:43,195 - DonorPDFExtractor - INFO - Page 5/21: Extracted 645 characters\n",
      "2025-06-18 23:13:43,198 - DonorPDFExtractor - INFO - Page 6/21: Extracted 262 characters\n",
      "2025-06-18 23:13:43,202 - DonorPDFExtractor - INFO - Page 7/21: Extracted 490 characters\n",
      "2025-06-18 23:13:43,206 - DonorPDFExtractor - INFO - Page 8/21: Extracted 367 characters\n",
      "2025-06-18 23:13:43,216 - DonorPDFExtractor - INFO - Page 9/21: Extracted 951 characters\n",
      "2025-06-18 23:13:43,226 - DonorPDFExtractor - INFO - Page 10/21: Extracted 772 characters\n",
      "2025-06-18 23:13:43,234 - DonorPDFExtractor - INFO - Page 11/21: Extracted 596 characters\n",
      "2025-06-18 23:13:43,244 - DonorPDFExtractor - INFO - Page 12/21: Extracted 852 characters\n",
      "2025-06-18 23:13:43,253 - DonorPDFExtractor - INFO - Page 13/21: Extracted 926 characters\n",
      "2025-06-18 23:13:43,262 - DonorPDFExtractor - INFO - Page 14/21: Extracted 1097 characters\n",
      "2025-06-18 23:13:43,266 - DonorPDFExtractor - INFO - Page 15/21: Extracted 256 characters\n",
      "2025-06-18 23:13:43,281 - DonorPDFExtractor - INFO - Page 16/21: Extracted 808 characters\n",
      "2025-06-18 23:13:43,290 - DonorPDFExtractor - INFO - Page 17/21: Extracted 1624 characters\n",
      "2025-06-18 23:13:43,291 - DonorPDFExtractor - INFO - Page 18/21: Extracted 134 characters\n",
      "2025-06-18 23:13:43,301 - DonorPDFExtractor - INFO - Page 19/21: Extracted 1065 characters\n"
     ]
    },
    {
     "name": "stdout",
     "output_type": "stream",
     "text": [
      "✓ Processed: patient2.pdf\n"
     ]
    },
    {
     "name": "stderr",
     "output_type": "stream",
     "text": [
      "2025-06-18 23:13:43,336 - DonorPDFExtractor - INFO - Page 20/21: Extracted 1009 characters\n",
      "2025-06-18 23:13:43,338 - DonorPDFExtractor - INFO - Page 21/21: Extracted 203 characters\n",
      "2025-06-18 23:13:43,339 - DonorPDFExtractor - INFO - Total extracted text: 15729 characters\n",
      "2025-06-18 23:13:43,349 - HLAExtractor - INFO - Extracting HLA data from sample_pdfs/patient1.pdf using original approach\n",
      "2025-06-18 23:13:43,576 - DonorPDFExtractor - INFO - Extracting text from PDF: sample_pdfs/235350.LEGENDRE SURLIGNE BIS .pdf\n",
      "2025-06-18 23:13:43,582 - DonorPDFExtractor - INFO - PDF contains 23 pages\n",
      "2025-06-18 23:13:43,596 - DonorPDFExtractor - INFO - Page 1/23: Extracted 975 characters\n",
      "2025-06-18 23:13:43,601 - DonorPDFExtractor - INFO - Page 2/23: Extracted 642 characters\n",
      "2025-06-18 23:13:43,610 - DonorPDFExtractor - INFO - Page 3/23: Extracted 771 characters\n",
      "2025-06-18 23:13:43,619 - DonorPDFExtractor - INFO - Page 4/23: Extracted 1198 characters\n",
      "2025-06-18 23:13:43,623 - DonorPDFExtractor - INFO - Page 5/23: Extracted 366 characters\n",
      "2025-06-18 23:13:43,630 - DonorPDFExtractor - INFO - Page 6/23: Extracted 610 characters\n",
      "2025-06-18 23:13:43,636 - DonorPDFExtractor - INFO - Page 7/23: Extracted 806 characters\n",
      "2025-06-18 23:13:43,647 - DonorPDFExtractor - INFO - Page 8/23: Extracted 1097 characters\n",
      "2025-06-18 23:13:43,683 - DonorPDFExtractor - INFO - Page 9/23: Extracted 1269 characters\n",
      "2025-06-18 23:13:43,692 - DonorPDFExtractor - INFO - Page 10/23: Extracted 617 characters\n",
      "2025-06-18 23:13:43,701 - DonorPDFExtractor - INFO - Page 11/23: Extracted 706 characters\n",
      "2025-06-18 23:13:43,709 - DonorPDFExtractor - INFO - Page 12/23: Extracted 867 characters\n",
      "2025-06-18 23:13:43,718 - DonorPDFExtractor - INFO - Page 13/23: Extracted 1120 characters\n",
      "2025-06-18 23:13:43,722 - DonorPDFExtractor - INFO - Page 14/23: Extracted 474 characters\n",
      "2025-06-18 23:13:43,728 - DonorPDFExtractor - INFO - Page 15/23: Extracted 348 characters\n",
      "2025-06-18 23:13:43,734 - DonorPDFExtractor - INFO - Page 16/23: Extracted 844 characters\n",
      "2025-06-18 23:13:43,737 - DonorPDFExtractor - INFO - Page 17/23: Extracted 280 characters\n",
      "2025-06-18 23:13:43,739 - DonorPDFExtractor - INFO - Page 18/23: Extracted 85 characters\n",
      "2025-06-18 23:13:43,749 - DonorPDFExtractor - INFO - Page 19/23: Extracted 951 characters\n",
      "2025-06-18 23:13:43,758 - DonorPDFExtractor - INFO - Page 20/23: Extracted 804 characters\n",
      "2025-06-18 23:13:43,760 - DonorPDFExtractor - INFO - Page 21/23: Extracted 734 characters\n",
      "2025-06-18 23:13:43,763 - DonorPDFExtractor - INFO - Page 22/23: Extracted 243 characters\n",
      "2025-06-18 23:13:43,767 - DonorPDFExtractor - INFO - Page 23/23: Extracted 382 characters\n",
      "2025-06-18 23:13:43,767 - DonorPDFExtractor - INFO - Total extracted text: 16233 characters\n",
      "2025-06-18 23:13:43,779 - HLAExtractor - INFO - Extracting HLA data from sample_pdfs/235350.LEGENDRE SURLIGNE BIS .pdf using original approach\n"
     ]
    },
    {
     "name": "stdout",
     "output_type": "stream",
     "text": [
      "✓ Processed: patient1.pdf\n"
     ]
    },
    {
     "name": "stderr",
     "output_type": "stream",
     "text": [
      "2025-06-18 23:13:44,053 - DonorPDFExtractor - INFO - Extracting text from PDF: sample_pdfs/patient_test_1.pdf\n",
      "2025-06-18 23:13:44,057 - DonorPDFExtractor - INFO - PDF contains 22 pages\n",
      "2025-06-18 23:13:44,073 - DonorPDFExtractor - INFO - Page 1/22: Extracted 1308 characters\n",
      "2025-06-18 23:13:44,075 - DonorPDFExtractor - INFO - Page 2/22: Extracted 147 characters\n",
      "2025-06-18 23:13:44,082 - DonorPDFExtractor - INFO - Page 3/22: Extracted 1549 characters\n",
      "2025-06-18 23:13:44,091 - DonorPDFExtractor - INFO - Page 4/22: Extracted 786 characters\n",
      "2025-06-18 23:13:44,095 - DonorPDFExtractor - INFO - Page 5/22: Extracted 425 characters\n",
      "2025-06-18 23:13:44,098 - DonorPDFExtractor - INFO - Page 6/22: Extracted 663 characters\n",
      "2025-06-18 23:13:44,103 - DonorPDFExtractor - INFO - Page 7/22: Extracted 608 characters\n",
      "2025-06-18 23:13:44,107 - DonorPDFExtractor - INFO - Page 8/22: Extracted 380 characters\n",
      "2025-06-18 23:13:44,117 - DonorPDFExtractor - INFO - Page 9/22: Extracted 1357 characters\n",
      "2025-06-18 23:13:44,122 - DonorPDFExtractor - INFO - Page 10/22: Extracted 415 characters\n",
      "2025-06-18 23:13:44,132 - DonorPDFExtractor - INFO - Page 11/22: Extracted 771 characters\n",
      "2025-06-18 23:13:44,141 - DonorPDFExtractor - INFO - Page 12/22: Extracted 723 characters\n",
      "2025-06-18 23:13:44,150 - DonorPDFExtractor - INFO - Page 13/22: Extracted 747 characters\n",
      "2025-06-18 23:13:44,159 - DonorPDFExtractor - INFO - Page 14/22: Extracted 962 characters\n",
      "2025-06-18 23:13:44,169 - DonorPDFExtractor - INFO - Page 15/22: Extracted 1222 characters\n",
      "2025-06-18 23:13:44,173 - DonorPDFExtractor - INFO - Page 16/22: Extracted 289 characters\n",
      "2025-06-18 23:13:44,214 - DonorPDFExtractor - INFO - Page 17/22: Extracted 910 characters\n",
      "2025-06-18 23:13:44,225 - DonorPDFExtractor - INFO - Page 18/22: Extracted 1483 characters\n",
      "2025-06-18 23:13:44,226 - DonorPDFExtractor - INFO - Page 19/22: Extracted 133 characters\n",
      "2025-06-18 23:13:44,236 - DonorPDFExtractor - INFO - Page 20/22: Extracted 1043 characters\n",
      "2025-06-18 23:13:44,245 - DonorPDFExtractor - INFO - Page 21/22: Extracted 863 characters\n",
      "2025-06-18 23:13:44,247 - DonorPDFExtractor - INFO - Page 22/22: Extracted 183 characters\n",
      "2025-06-18 23:13:44,247 - DonorPDFExtractor - INFO - Total extracted text: 17009 characters\n",
      "2025-06-18 23:13:44,258 - HLAExtractor - INFO - Extracting HLA data from sample_pdfs/patient_test_1.pdf using original approach\n"
     ]
    },
    {
     "name": "stdout",
     "output_type": "stream",
     "text": [
      "✓ Processed: 235350.LEGENDRE SURLIGNE BIS .pdf\n"
     ]
    },
    {
     "name": "stderr",
     "output_type": "stream",
     "text": [
      "2025-06-18 23:13:44,491 - DonorPDFExtractor - INFO - Extracting text from PDF: sample_pdfs/patient_test_2.pdf\n",
      "2025-06-18 23:13:44,495 - DonorPDFExtractor - INFO - PDF contains 23 pages\n",
      "2025-06-18 23:13:44,509 - DonorPDFExtractor - INFO - Page 1/23: Extracted 975 characters\n",
      "2025-06-18 23:13:44,514 - DonorPDFExtractor - INFO - Page 2/23: Extracted 642 characters\n",
      "2025-06-18 23:13:44,524 - DonorPDFExtractor - INFO - Page 3/23: Extracted 771 characters\n",
      "2025-06-18 23:13:44,556 - DonorPDFExtractor - INFO - Page 4/23: Extracted 1198 characters\n",
      "2025-06-18 23:13:44,560 - DonorPDFExtractor - INFO - Page 5/23: Extracted 366 characters\n",
      "2025-06-18 23:13:44,566 - DonorPDFExtractor - INFO - Page 6/23: Extracted 610 characters\n",
      "2025-06-18 23:13:44,573 - DonorPDFExtractor - INFO - Page 7/23: Extracted 806 characters\n",
      "2025-06-18 23:13:44,584 - DonorPDFExtractor - INFO - Page 8/23: Extracted 1097 characters\n",
      "2025-06-18 23:13:44,595 - DonorPDFExtractor - INFO - Page 9/23: Extracted 1269 characters\n",
      "2025-06-18 23:13:44,604 - DonorPDFExtractor - INFO - Page 10/23: Extracted 617 characters\n",
      "2025-06-18 23:13:44,612 - DonorPDFExtractor - INFO - Page 11/23: Extracted 706 characters\n",
      "2025-06-18 23:13:44,620 - DonorPDFExtractor - INFO - Page 12/23: Extracted 867 characters\n",
      "2025-06-18 23:13:44,629 - DonorPDFExtractor - INFO - Page 13/23: Extracted 1120 characters\n",
      "2025-06-18 23:13:44,633 - DonorPDFExtractor - INFO - Page 14/23: Extracted 474 characters\n",
      "2025-06-18 23:13:44,638 - DonorPDFExtractor - INFO - Page 15/23: Extracted 348 characters\n",
      "2025-06-18 23:13:44,644 - DonorPDFExtractor - INFO - Page 16/23: Extracted 844 characters\n",
      "2025-06-18 23:13:44,648 - DonorPDFExtractor - INFO - Page 17/23: Extracted 280 characters\n",
      "2025-06-18 23:13:44,649 - DonorPDFExtractor - INFO - Page 18/23: Extracted 85 characters\n",
      "2025-06-18 23:13:44,659 - DonorPDFExtractor - INFO - Page 19/23: Extracted 951 characters\n",
      "2025-06-18 23:13:44,668 - DonorPDFExtractor - INFO - Page 20/23: Extracted 804 characters\n",
      "2025-06-18 23:13:44,669 - DonorPDFExtractor - INFO - Page 21/23: Extracted 734 characters\n",
      "2025-06-18 23:13:44,672 - DonorPDFExtractor - INFO - Page 22/23: Extracted 243 characters\n",
      "2025-06-18 23:13:44,676 - DonorPDFExtractor - INFO - Page 23/23: Extracted 382 characters\n",
      "2025-06-18 23:13:44,676 - DonorPDFExtractor - INFO - Total extracted text: 16233 characters\n",
      "2025-06-18 23:13:44,687 - HLAExtractor - INFO - Extracting HLA data from sample_pdfs/patient_test_2.pdf using original approach\n"
     ]
    },
    {
     "name": "stdout",
     "output_type": "stream",
     "text": [
      "✓ Processed: patient_test_1.pdf\n"
     ]
    },
    {
     "name": "stderr",
     "output_type": "stream",
     "text": [
      "2025-06-18 23:13:44,930 - DonorPDFExtractor - INFO - Extracting text from PDF: sample_pdfs/subfolder_test/patient3.pdf\n",
      "2025-06-18 23:13:44,933 - DonorPDFExtractor - INFO - PDF contains 22 pages\n",
      "2025-06-18 23:13:44,948 - DonorPDFExtractor - INFO - Page 1/22: Extracted 1329 characters\n",
      "2025-06-18 23:13:44,950 - DonorPDFExtractor - INFO - Page 2/22: Extracted 85 characters\n",
      "2025-06-18 23:13:44,958 - DonorPDFExtractor - INFO - Page 3/22: Extracted 1469 characters\n",
      "2025-06-18 23:13:44,966 - DonorPDFExtractor - INFO - Page 4/22: Extracted 718 characters\n",
      "2025-06-18 23:13:44,971 - DonorPDFExtractor - INFO - Page 5/22: Extracted 611 characters\n",
      "2025-06-18 23:13:44,974 - DonorPDFExtractor - INFO - Page 6/22: Extracted 347 characters\n",
      "2025-06-18 23:13:44,979 - DonorPDFExtractor - INFO - Page 7/22: Extracted 490 characters\n",
      "2025-06-18 23:13:44,982 - DonorPDFExtractor - INFO - Page 8/22: Extracted 381 characters\n",
      "2025-06-18 23:13:44,993 - DonorPDFExtractor - INFO - Page 9/22: Extracted 1135 characters\n",
      "2025-06-18 23:13:45,002 - DonorPDFExtractor - INFO - Page 10/22: Extracted 777 characters\n",
      "2025-06-18 23:13:45,009 - DonorPDFExtractor - INFO - Page 11/22: Extracted 537 characters\n",
      "2025-06-18 23:13:45,016 - DonorPDFExtractor - INFO - Page 12/22: Extracted 778 characters\n",
      "2025-06-18 23:13:45,025 - DonorPDFExtractor - INFO - Page 13/22: Extracted 907 characters\n",
      "2025-06-18 23:13:45,055 - DonorPDFExtractor - INFO - Page 14/22: Extracted 1157 characters\n",
      "2025-06-18 23:13:45,058 - DonorPDFExtractor - INFO - Page 15/22: Extracted 209 characters\n",
      "2025-06-18 23:13:45,061 - DonorPDFExtractor - INFO - Page 16/22: Extracted 602 characters\n",
      "2025-06-18 23:13:45,073 - DonorPDFExtractor - INFO - Page 17/22: Extracted 689 characters\n",
      "2025-06-18 23:13:45,076 - DonorPDFExtractor - INFO - Page 18/22: Extracted 290 characters\n",
      "2025-06-18 23:13:45,077 - DonorPDFExtractor - INFO - Page 19/22: Extracted 134 characters\n",
      "2025-06-18 23:13:45,087 - DonorPDFExtractor - INFO - Page 20/22: Extracted 1248 characters\n",
      "2025-06-18 23:13:45,096 - DonorPDFExtractor - INFO - Page 21/22: Extracted 782 characters\n",
      "2025-06-18 23:13:45,098 - DonorPDFExtractor - INFO - Page 22/22: Extracted 477 characters\n",
      "2025-06-18 23:13:45,098 - DonorPDFExtractor - INFO - Total extracted text: 15194 characters\n",
      "2025-06-18 23:13:45,108 - HLAExtractor - INFO - Extracting HLA data from sample_pdfs/subfolder_test/patient3.pdf using original approach\n"
     ]
    },
    {
     "name": "stdout",
     "output_type": "stream",
     "text": [
      "✓ Processed: patient_test_2.pdf\n",
      "\n",
      "Processing batch 2/2\n"
     ]
    },
    {
     "name": "stderr",
     "output_type": "stream",
     "text": [
      "2025-06-18 23:13:45,323 - DonorPDFExtractor - INFO - Extracting text from PDF: sample_pdfs/subfolder_test/patient_test_2.pdf\n",
      "2025-06-18 23:13:45,327 - DonorPDFExtractor - INFO - PDF contains 23 pages\n",
      "2025-06-18 23:13:45,341 - DonorPDFExtractor - INFO - Page 1/23: Extracted 975 characters\n",
      "2025-06-18 23:13:45,346 - DonorPDFExtractor - INFO - Page 2/23: Extracted 642 characters\n",
      "2025-06-18 23:13:45,355 - DonorPDFExtractor - INFO - Page 3/23: Extracted 771 characters\n",
      "2025-06-18 23:13:45,364 - DonorPDFExtractor - INFO - Page 4/23: Extracted 1198 characters\n",
      "2025-06-18 23:13:45,368 - DonorPDFExtractor - INFO - Page 5/23: Extracted 366 characters\n",
      "2025-06-18 23:13:45,398 - DonorPDFExtractor - INFO - Page 6/23: Extracted 610 characters\n",
      "2025-06-18 23:13:45,406 - DonorPDFExtractor - INFO - Page 7/23: Extracted 806 characters\n",
      "2025-06-18 23:13:45,417 - DonorPDFExtractor - INFO - Page 8/23: Extracted 1097 characters\n",
      "2025-06-18 23:13:45,429 - DonorPDFExtractor - INFO - Page 9/23: Extracted 1269 characters\n",
      "2025-06-18 23:13:45,438 - DonorPDFExtractor - INFO - Page 10/23: Extracted 617 characters\n",
      "2025-06-18 23:13:45,446 - DonorPDFExtractor - INFO - Page 11/23: Extracted 706 characters\n",
      "2025-06-18 23:13:45,455 - DonorPDFExtractor - INFO - Page 12/23: Extracted 867 characters\n",
      "2025-06-18 23:13:45,464 - DonorPDFExtractor - INFO - Page 13/23: Extracted 1120 characters\n",
      "2025-06-18 23:13:45,468 - DonorPDFExtractor - INFO - Page 14/23: Extracted 474 characters\n",
      "2025-06-18 23:13:45,474 - DonorPDFExtractor - INFO - Page 15/23: Extracted 348 characters\n",
      "2025-06-18 23:13:45,480 - DonorPDFExtractor - INFO - Page 16/23: Extracted 844 characters\n",
      "2025-06-18 23:13:45,484 - DonorPDFExtractor - INFO - Page 17/23: Extracted 280 characters\n",
      "2025-06-18 23:13:45,485 - DonorPDFExtractor - INFO - Page 18/23: Extracted 85 characters\n",
      "2025-06-18 23:13:45,496 - DonorPDFExtractor - INFO - Page 19/23: Extracted 951 characters\n",
      "2025-06-18 23:13:45,505 - DonorPDFExtractor - INFO - Page 20/23: Extracted 804 characters\n",
      "2025-06-18 23:13:45,506 - DonorPDFExtractor - INFO - Page 21/23: Extracted 734 characters\n",
      "2025-06-18 23:13:45,509 - DonorPDFExtractor - INFO - Page 22/23: Extracted 243 characters\n",
      "2025-06-18 23:13:45,512 - DonorPDFExtractor - INFO - Page 23/23: Extracted 382 characters\n",
      "2025-06-18 23:13:45,513 - DonorPDFExtractor - INFO - Total extracted text: 16233 characters\n",
      "2025-06-18 23:13:45,524 - HLAExtractor - INFO - Extracting HLA data from sample_pdfs/subfolder_test/patient_test_2.pdf using original approach\n"
     ]
    },
    {
     "name": "stdout",
     "output_type": "stream",
     "text": [
      "✓ Processed: patient3.pdf\n"
     ]
    },
    {
     "name": "stderr",
     "output_type": "stream",
     "text": [
      "2025-06-18 23:13:45,772 - DonorJSONExporter - INFO - JSON file generated successfully: output/donors_interim_batch_2_20250618_231345.json\n",
      "2025-06-18 23:13:45,773 - DonorJSONExporter - INFO - JSON file generated successfully: output/all_donors_20250618_231345.json\n",
      "2025-06-18 23:13:45,774 - DonorCSVExporter - INFO - CSV file generated successfully: output/all_donors_20250618_231345.csv\n"
     ]
    },
    {
     "name": "stdout",
     "output_type": "stream",
     "text": [
      "✓ Processed: patient_test_2.pdf\n",
      "Saved interim results to: ./output/donors_interim_batch_2.json\n",
      "\n",
      "Processing complete:\n",
      "  - Total files: 7\n",
      "  - Successful: 7\n",
      "  - Failed: 0\n",
      "  - Total time: 3.15 seconds\n",
      "  - Avg time per file: 0.45 seconds\n",
      "Exported all data to JSON: ./output/all_donors.json\n",
      "Exported all data to CSV: ./output/all_donors.csv\n"
     ]
    }
   ],
   "source": [
    "from pulmo_cristal.utils import batch_process_files\n",
    "import time\n",
    "\n",
    "if pdf_files:\n",
    "    # Initialize extractors\n",
    "    donor_extractor = DonorPDFExtractor()\n",
    "    hla_extractor = HLAExtractor()\n",
    "\n",
    "    # Initialize exporters\n",
    "    json_exporter = DonorJSONExporter()\n",
    "\n",
    "    # Process in batches\n",
    "    all_data = []\n",
    "    successful = 0\n",
    "    failed = 0\n",
    "    start_time = time.time()\n",
    "\n",
    "    # Define batch size\n",
    "    batch_size = 5  # Adjust based on your needs\n",
    "\n",
    "    for batch_idx, batch in enumerate(\n",
    "        batch_process_files(pdf_files, batch_size=batch_size)\n",
    "    ):\n",
    "        print(\n",
    "            f\"\\nProcessing batch {batch_idx + 1}/{(len(pdf_files) + batch_size - 1) // batch_size}\"\n",
    "        )\n",
    "        batch_data = []\n",
    "\n",
    "        for pdf_file in batch:\n",
    "            try:\n",
    "                # Extract donor data\n",
    "                donor_data = donor_extractor.extract_donor_data(pdf_file)\n",
    "\n",
    "                # Extract HLA data\n",
    "                hla_data, status = hla_extractor.extract_hla_data(pdf_file)\n",
    "                donor_data[\"informations_donneur\"][\"hla\"] = hla_data\n",
    "                donor_data[\"informations_donneur\"][\"hla_extraction_status\"] = status\n",
    "\n",
    "                # Add to batch\n",
    "                batch_data.append(donor_data)\n",
    "                successful += 1\n",
    "                print(f\"✓ Processed: {pdf_file.name}\")\n",
    "            except Exception as e:\n",
    "                failed += 1\n",
    "                print(f\"✗ Error processing {pdf_file.name}: {e}\")\n",
    "\n",
    "        # Add batch to all data\n",
    "        all_data.extend(batch_data)\n",
    "\n",
    "        # Save intermediate results\n",
    "        if batch_data and (batch_idx + 1) % 2 == 0:  # Save every 2 batches\n",
    "            interim_path = os.path.join(\n",
    "                output_dir, f\"donors_interim_batch_{batch_idx + 1}.json\"\n",
    "            )\n",
    "            try:\n",
    "                json_exporter.export_json(all_data, interim_path)\n",
    "                print(f\"Saved interim results to: {interim_path}\")\n",
    "            except Exception as e:\n",
    "                print(f\"Error saving interim results: {e}\")\n",
    "\n",
    "    end_time = time.time()\n",
    "    elapsed_time = end_time - start_time\n",
    "\n",
    "    print(\"\\nProcessing complete:\")\n",
    "    print(f\"  - Total files: {len(pdf_files)}\")\n",
    "    print(f\"  - Successful: {successful}\")\n",
    "    print(f\"  - Failed: {failed}\")\n",
    "    print(f\"  - Total time: {elapsed_time:.2f} seconds\")\n",
    "    print(f\"  - Avg time per file: {elapsed_time / len(pdf_files):.2f} seconds\")\n",
    "\n",
    "    # Export all data\n",
    "    if all_data:\n",
    "        final_json_path = os.path.join(output_dir, \"all_donors.json\")\n",
    "        final_csv_path = os.path.join(output_dir, \"all_donors.csv\")\n",
    "\n",
    "        try:\n",
    "            # Export to JSON\n",
    "            json_exporter.export_json(all_data, final_json_path)\n",
    "            print(f\"Exported all data to JSON: {final_json_path}\")\n",
    "\n",
    "            # Export to CSV\n",
    "            csv_exporter = DonorCSVExporter()\n",
    "            csv_exporter.export_csv(all_data, final_csv_path)\n",
    "            print(f\"Exported all data to CSV: {final_csv_path}\")\n",
    "        except Exception as e:\n",
    "            print(f\"Error exporting final data: {e}\")\n",
    "else:\n",
    "    print(\"No PDF files found to process\")"
   ]
  },
  {
   "cell_type": "markdown",
   "metadata": {},
   "source": [
    "### Using the Command Line Interface with Your Existing PDFs\n",
    "The package also provides a command-line interface which might be easier for batch processing:"
   ]
  },
  {
   "cell_type": "code",
   "execution_count": 11,
   "metadata": {},
   "outputs": [
    {
     "name": "stdout",
     "output_type": "stream",
     "text": [
      "/Users/sarrabenyahia/Documents/GitHub/pulmo-cristal/venv/lib/python3.11/site-packages/pypdf/_crypt_providers/_cryptography.py:32: CryptographyDeprecationWarning: ARC4 has been moved to cryptography.hazmat.decrepit.ciphers.algorithms.ARC4 and will be removed from cryptography.hazmat.primitives.ciphers.algorithms in 48.0.0.\n",
      "  from cryptography.hazmat.primitives.ciphers.algorithms import AES, ARC4\n"
     ]
    }
   ],
   "source": [
    "# Extract data from all PDFs using the CLI\n",
    "!pulmo-cristal extract --input {pdf_dir} --output {output_dir} --format both --recursive"
   ]
  },
  {
   "cell_type": "code",
   "execution_count": 12,
   "metadata": {},
   "outputs": [
    {
     "name": "stdout",
     "output_type": "stream",
     "text": [
      "/Users/sarrabenyahia/Documents/GitHub/pulmo-cristal/venv/lib/python3.11/site-packages/pypdf/_crypt_providers/_cryptography.py:32: CryptographyDeprecationWarning: ARC4 has been moved to cryptography.hazmat.decrepit.ciphers.algorithms.ARC4 and will be removed from cryptography.hazmat.primitives.ciphers.algorithms in 48.0.0.\n",
      "  from cryptography.hazmat.primitives.ciphers.algorithms import AES, ARC4\n",
      "sample_pdfs/\n",
      "├── subfolder_test/\n",
      "│   ├── patient3.pdf\n",
      "│   └── patient_test_2.pdf\n",
      "├── 235350.LEGENDRE SURLIGNE BIS .pdf\n",
      "├── patient1.pdf\n",
      "├── patient2.pdf\n",
      "├── patient_test_1.pdf\n",
      "└── patient_test_2.pdf\n",
      "\n",
      "Total: 1 directories, 7 files\n"
     ]
    }
   ],
   "source": [
    "# List PDF files in your directory\n",
    "!pulmo-cristal list --input {pdf_dir} --recursive"
   ]
  },
  {
   "cell_type": "code",
   "execution_count": null,
   "metadata": {},
   "outputs": [],
   "source": []
  }
 ],
 "metadata": {
  "kernelspec": {
   "display_name": "venv",
   "language": "python",
   "name": "python3"
  },
  "language_info": {
   "codemirror_mode": {
    "name": "ipython",
    "version": 3
   },
   "file_extension": ".py",
   "mimetype": "text/x-python",
   "name": "python",
   "nbconvert_exporter": "python",
   "pygments_lexer": "ipython3",
   "version": "3.11.10"
  }
 },
 "nbformat": 4,
 "nbformat_minor": 2
}
