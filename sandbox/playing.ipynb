{
 "cells": [
  {
   "cell_type": "markdown",
   "metadata": {},
   "source": [
    "# Using the pulmo-cristal Package\n",
    "## This guide shows how to use the pulmo-cristal package for extracting and processing data from donor PDF documents.\n"
   ]
  },
  {
   "cell_type": "markdown",
   "metadata": {},
   "source": [
    "### Installation"
   ]
  },
  {
   "cell_type": "code",
   "execution_count": 85,
   "metadata": {},
   "outputs": [
    {
     "name": "stdout",
     "output_type": "stream",
     "text": [
      "Found existing installation: pulmo-cristal 0.1.0\n",
      "Uninstalling pulmo-cristal-0.1.0:\n",
      "  Successfully uninstalled pulmo-cristal-0.1.0\n",
      "Found existing installation: camelot-py 1.0.0\n",
      "Uninstalling camelot-py-1.0.0:\n",
      "  Successfully uninstalled camelot-py-1.0.0\n",
      "Collecting camelot-py[cv]\n",
      "  Using cached camelot_py-1.0.0-py3-none-any.whl.metadata (9.4 kB)\n",
      "\u001b[33mWARNING: camelot-py 1.0.0 does not provide the extra 'cv'\u001b[0m\u001b[33m\n",
      "\u001b[0mRequirement already satisfied: click>=8.0.1 in /Users/sarrabenyahia/Documents/GitHub/pulmo-cristal/venv/lib/python3.11/site-packages (from camelot-py[cv]) (8.1.8)\n",
      "Requirement already satisfied: chardet>=5.1.0 in /Users/sarrabenyahia/Documents/GitHub/pulmo-cristal/venv/lib/python3.11/site-packages (from camelot-py[cv]) (5.2.0)\n",
      "Requirement already satisfied: numpy>=1.24.4 in /Users/sarrabenyahia/Documents/GitHub/pulmo-cristal/venv/lib/python3.11/site-packages (from camelot-py[cv]) (2.2.4)\n",
      "Requirement already satisfied: openpyxl>=3.1.0 in /Users/sarrabenyahia/Documents/GitHub/pulmo-cristal/venv/lib/python3.11/site-packages (from camelot-py[cv]) (3.1.5)\n",
      "Requirement already satisfied: pdfminer-six>=20240706 in /Users/sarrabenyahia/Documents/GitHub/pulmo-cristal/venv/lib/python3.11/site-packages (from camelot-py[cv]) (20250327)\n",
      "Requirement already satisfied: pypdf<4.0,>=3.17 in /Users/sarrabenyahia/Documents/GitHub/pulmo-cristal/venv/lib/python3.11/site-packages (from camelot-py[cv]) (3.17.4)\n",
      "Requirement already satisfied: pandas>=2.2.2 in /Users/sarrabenyahia/Documents/GitHub/pulmo-cristal/venv/lib/python3.11/site-packages (from camelot-py[cv]) (2.2.3)\n",
      "Requirement already satisfied: tabulate>=0.9.0 in /Users/sarrabenyahia/Documents/GitHub/pulmo-cristal/venv/lib/python3.11/site-packages (from camelot-py[cv]) (0.9.0)\n",
      "Requirement already satisfied: opencv-python-headless>=4.7.0.68 in /Users/sarrabenyahia/Documents/GitHub/pulmo-cristal/venv/lib/python3.11/site-packages (from camelot-py[cv]) (4.11.0.86)\n",
      "Requirement already satisfied: pypdfium2>=4 in /Users/sarrabenyahia/Documents/GitHub/pulmo-cristal/venv/lib/python3.11/site-packages (from camelot-py[cv]) (4.30.1)\n",
      "Requirement already satisfied: et-xmlfile in /Users/sarrabenyahia/Documents/GitHub/pulmo-cristal/venv/lib/python3.11/site-packages (from openpyxl>=3.1.0->camelot-py[cv]) (2.0.0)\n",
      "Requirement already satisfied: python-dateutil>=2.8.2 in /Users/sarrabenyahia/Documents/GitHub/pulmo-cristal/venv/lib/python3.11/site-packages (from pandas>=2.2.2->camelot-py[cv]) (2.9.0.post0)\n",
      "Requirement already satisfied: pytz>=2020.1 in /Users/sarrabenyahia/Documents/GitHub/pulmo-cristal/venv/lib/python3.11/site-packages (from pandas>=2.2.2->camelot-py[cv]) (2025.2)\n",
      "Requirement already satisfied: tzdata>=2022.7 in /Users/sarrabenyahia/Documents/GitHub/pulmo-cristal/venv/lib/python3.11/site-packages (from pandas>=2.2.2->camelot-py[cv]) (2025.2)\n",
      "Requirement already satisfied: charset-normalizer>=2.0.0 in /Users/sarrabenyahia/Documents/GitHub/pulmo-cristal/venv/lib/python3.11/site-packages (from pdfminer-six>=20240706->camelot-py[cv]) (3.4.1)\n",
      "Requirement already satisfied: cryptography>=36.0.0 in /Users/sarrabenyahia/Documents/GitHub/pulmo-cristal/venv/lib/python3.11/site-packages (from pdfminer-six>=20240706->camelot-py[cv]) (44.0.2)\n",
      "Requirement already satisfied: cffi>=1.12 in /Users/sarrabenyahia/Documents/GitHub/pulmo-cristal/venv/lib/python3.11/site-packages (from cryptography>=36.0.0->pdfminer-six>=20240706->camelot-py[cv]) (1.17.1)\n",
      "Requirement already satisfied: six>=1.5 in /Users/sarrabenyahia/Documents/GitHub/pulmo-cristal/venv/lib/python3.11/site-packages (from python-dateutil>=2.8.2->pandas>=2.2.2->camelot-py[cv]) (1.17.0)\n",
      "Requirement already satisfied: pycparser in /Users/sarrabenyahia/Documents/GitHub/pulmo-cristal/venv/lib/python3.11/site-packages (from cffi>=1.12->cryptography>=36.0.0->pdfminer-six>=20240706->camelot-py[cv]) (2.22)\n",
      "Using cached camelot_py-1.0.0-py3-none-any.whl (66 kB)\n",
      "Installing collected packages: camelot-py\n",
      "Successfully installed camelot-py-1.0.0\n",
      "\n",
      "\u001b[1m[\u001b[0m\u001b[34;49mnotice\u001b[0m\u001b[1;39;49m]\u001b[0m\u001b[39;49m A new release of pip is available: \u001b[0m\u001b[31;49m24.3.1\u001b[0m\u001b[39;49m -> \u001b[0m\u001b[32;49m25.0.1\u001b[0m\n",
      "\u001b[1m[\u001b[0m\u001b[34;49mnotice\u001b[0m\u001b[1;39;49m]\u001b[0m\u001b[39;49m To update, run: \u001b[0m\u001b[32;49mpip install --upgrade pip\u001b[0m\n",
      "Collecting git+https://github.com/drci-foch/pulmo-cristal.git\n",
      "  Cloning https://github.com/drci-foch/pulmo-cristal.git to /private/var/folders/4l/60lgrf9s6sqbf6lcr70gbl2c0000gn/T/pip-req-build-ubhlct5q\n",
      "  Running command git clone --filter=blob:none --quiet https://github.com/drci-foch/pulmo-cristal.git /private/var/folders/4l/60lgrf9s6sqbf6lcr70gbl2c0000gn/T/pip-req-build-ubhlct5q\n",
      "  Resolved https://github.com/drci-foch/pulmo-cristal.git to commit 642320f77b9937d37b80bc1e9b6232e6c4f390b9\n",
      "  Preparing metadata (setup.py) ... \u001b[?25ldone\n",
      "\u001b[?25hRequirement already satisfied: PyPDF2>=3.0.0 in /Users/sarrabenyahia/Documents/GitHub/pulmo-cristal/venv/lib/python3.11/site-packages (from pulmo-cristal==0.1.0) (3.0.1)\n",
      "Requirement already satisfied: camelot-py>=1.0.0 in /Users/sarrabenyahia/Documents/GitHub/pulmo-cristal/venv/lib/python3.11/site-packages (from pulmo-cristal==0.1.0) (1.0.0)\n",
      "Requirement already satisfied: opencv-python-headless>=4.5.0 in /Users/sarrabenyahia/Documents/GitHub/pulmo-cristal/venv/lib/python3.11/site-packages (from pulmo-cristal==0.1.0) (4.11.0.86)\n",
      "Requirement already satisfied: ghostscript>=0.7 in /Users/sarrabenyahia/Documents/GitHub/pulmo-cristal/venv/lib/python3.11/site-packages (from pulmo-cristal==0.1.0) (0.7)\n",
      "Requirement already satisfied: numpy>=1.20.0 in /Users/sarrabenyahia/Documents/GitHub/pulmo-cristal/venv/lib/python3.11/site-packages (from pulmo-cristal==0.1.0) (2.2.4)\n",
      "Requirement already satisfied: pandas>=1.3.0 in /Users/sarrabenyahia/Documents/GitHub/pulmo-cristal/venv/lib/python3.11/site-packages (from pulmo-cristal==0.1.0) (2.2.3)\n",
      "Requirement already satisfied: click>=8.0.1 in /Users/sarrabenyahia/Documents/GitHub/pulmo-cristal/venv/lib/python3.11/site-packages (from camelot-py>=1.0.0->pulmo-cristal==0.1.0) (8.1.8)\n",
      "Requirement already satisfied: chardet>=5.1.0 in /Users/sarrabenyahia/Documents/GitHub/pulmo-cristal/venv/lib/python3.11/site-packages (from camelot-py>=1.0.0->pulmo-cristal==0.1.0) (5.2.0)\n",
      "Requirement already satisfied: openpyxl>=3.1.0 in /Users/sarrabenyahia/Documents/GitHub/pulmo-cristal/venv/lib/python3.11/site-packages (from camelot-py>=1.0.0->pulmo-cristal==0.1.0) (3.1.5)\n",
      "Requirement already satisfied: pdfminer-six>=20240706 in /Users/sarrabenyahia/Documents/GitHub/pulmo-cristal/venv/lib/python3.11/site-packages (from camelot-py>=1.0.0->pulmo-cristal==0.1.0) (20250327)\n",
      "Requirement already satisfied: pypdf<4.0,>=3.17 in /Users/sarrabenyahia/Documents/GitHub/pulmo-cristal/venv/lib/python3.11/site-packages (from camelot-py>=1.0.0->pulmo-cristal==0.1.0) (3.17.4)\n",
      "Requirement already satisfied: tabulate>=0.9.0 in /Users/sarrabenyahia/Documents/GitHub/pulmo-cristal/venv/lib/python3.11/site-packages (from camelot-py>=1.0.0->pulmo-cristal==0.1.0) (0.9.0)\n",
      "Requirement already satisfied: pypdfium2>=4 in /Users/sarrabenyahia/Documents/GitHub/pulmo-cristal/venv/lib/python3.11/site-packages (from camelot-py>=1.0.0->pulmo-cristal==0.1.0) (4.30.1)\n",
      "Requirement already satisfied: setuptools>=38.6.0 in /Users/sarrabenyahia/Documents/GitHub/pulmo-cristal/venv/lib/python3.11/site-packages (from ghostscript>=0.7->pulmo-cristal==0.1.0) (75.8.0)\n",
      "Requirement already satisfied: python-dateutil>=2.8.2 in /Users/sarrabenyahia/Documents/GitHub/pulmo-cristal/venv/lib/python3.11/site-packages (from pandas>=1.3.0->pulmo-cristal==0.1.0) (2.9.0.post0)\n",
      "Requirement already satisfied: pytz>=2020.1 in /Users/sarrabenyahia/Documents/GitHub/pulmo-cristal/venv/lib/python3.11/site-packages (from pandas>=1.3.0->pulmo-cristal==0.1.0) (2025.2)\n",
      "Requirement already satisfied: tzdata>=2022.7 in /Users/sarrabenyahia/Documents/GitHub/pulmo-cristal/venv/lib/python3.11/site-packages (from pandas>=1.3.0->pulmo-cristal==0.1.0) (2025.2)\n",
      "Requirement already satisfied: et-xmlfile in /Users/sarrabenyahia/Documents/GitHub/pulmo-cristal/venv/lib/python3.11/site-packages (from openpyxl>=3.1.0->camelot-py>=1.0.0->pulmo-cristal==0.1.0) (2.0.0)\n",
      "Requirement already satisfied: charset-normalizer>=2.0.0 in /Users/sarrabenyahia/Documents/GitHub/pulmo-cristal/venv/lib/python3.11/site-packages (from pdfminer-six>=20240706->camelot-py>=1.0.0->pulmo-cristal==0.1.0) (3.4.1)\n",
      "Requirement already satisfied: cryptography>=36.0.0 in /Users/sarrabenyahia/Documents/GitHub/pulmo-cristal/venv/lib/python3.11/site-packages (from pdfminer-six>=20240706->camelot-py>=1.0.0->pulmo-cristal==0.1.0) (44.0.2)\n",
      "Requirement already satisfied: six>=1.5 in /Users/sarrabenyahia/Documents/GitHub/pulmo-cristal/venv/lib/python3.11/site-packages (from python-dateutil>=2.8.2->pandas>=1.3.0->pulmo-cristal==0.1.0) (1.17.0)\n",
      "Requirement already satisfied: cffi>=1.12 in /Users/sarrabenyahia/Documents/GitHub/pulmo-cristal/venv/lib/python3.11/site-packages (from cryptography>=36.0.0->pdfminer-six>=20240706->camelot-py>=1.0.0->pulmo-cristal==0.1.0) (1.17.1)\n",
      "Requirement already satisfied: pycparser in /Users/sarrabenyahia/Documents/GitHub/pulmo-cristal/venv/lib/python3.11/site-packages (from cffi>=1.12->cryptography>=36.0.0->pdfminer-six>=20240706->camelot-py>=1.0.0->pulmo-cristal==0.1.0) (2.22)\n",
      "Building wheels for collected packages: pulmo-cristal\n",
      "  Building wheel for pulmo-cristal (setup.py) ... \u001b[?25ldone\n",
      "\u001b[?25h  Created wheel for pulmo-cristal: filename=pulmo_cristal-0.1.0-py3-none-any.whl size=47607 sha256=614b2e441249044094067a4753bf718ca205d58ab0b9389174f3e4a38eb458b9\n",
      "  Stored in directory: /private/var/folders/4l/60lgrf9s6sqbf6lcr70gbl2c0000gn/T/pip-ephem-wheel-cache-0p0u0odg/wheels/07/19/be/9703b3fb1622f0c07d03a6cd8bfdc2be2e891767f1b0f1206a\n",
      "Successfully built pulmo-cristal\n",
      "Installing collected packages: pulmo-cristal\n",
      "Successfully installed pulmo-cristal-0.1.0\n",
      "\n",
      "\u001b[1m[\u001b[0m\u001b[34;49mnotice\u001b[0m\u001b[1;39;49m]\u001b[0m\u001b[39;49m A new release of pip is available: \u001b[0m\u001b[31;49m24.3.1\u001b[0m\u001b[39;49m -> \u001b[0m\u001b[32;49m25.0.1\u001b[0m\n",
      "\u001b[1m[\u001b[0m\u001b[34;49mnotice\u001b[0m\u001b[1;39;49m]\u001b[0m\u001b[39;49m To update, run: \u001b[0m\u001b[32;49mpip install --upgrade pip\u001b[0m\n"
     ]
    }
   ],
   "source": [
    "# Install the package from GitHub\n",
    "!pip uninstall pulmo-cristal -y\n",
    "!pip uninstall camelot-py -y\n",
    "!pip install \"camelot-py[cv]\"\n",
    "\n",
    "!pip install git+https://github.com/drci-foch/pulmo-cristal.git"
   ]
  },
  {
   "cell_type": "markdown",
   "metadata": {},
   "source": [
    "### Getting Started\n",
    "Let's check if the package is correctly installed:"
   ]
  },
  {
   "cell_type": "code",
   "execution_count": 86,
   "metadata": {},
   "outputs": [
    {
     "name": "stdout",
     "output_type": "stream",
     "text": [
      "/Users/sarrabenyahia/Documents/GitHub/pulmo-cristal/venv/lib/python3.11/site-packages/pypdf/_crypt_providers/_cryptography.py:32: CryptographyDeprecationWarning: ARC4 has been moved to cryptography.hazmat.decrepit.ciphers.algorithms.ARC4 and will be removed from cryptography.hazmat.primitives.ciphers.algorithms in 48.0.0.\n",
      "  from cryptography.hazmat.primitives.ciphers.algorithms import AES, ARC4\n",
      "Warning: camelot-py not installed. HLA extraction will use regex only.\n",
      "pulmo-cristal 0.1.0\n"
     ]
    }
   ],
   "source": [
    "# Check the package version\n",
    "!pulmo-cristal --version"
   ]
  },
  {
   "cell_type": "code",
   "execution_count": 87,
   "metadata": {},
   "outputs": [
    {
     "name": "stdout",
     "output_type": "stream",
     "text": [
      "/Users/sarrabenyahia/Documents/GitHub/pulmo-cristal/venv/lib/python3.11/site-packages/pypdf/_crypt_providers/_cryptography.py:32: CryptographyDeprecationWarning: ARC4 has been moved to cryptography.hazmat.decrepit.ciphers.algorithms.ARC4 and will be removed from cryptography.hazmat.primitives.ciphers.algorithms in 48.0.0.\n",
      "  from cryptography.hazmat.primitives.ciphers.algorithms import AES, ARC4\n",
      "Warning: camelot-py not installed. HLA extraction will use regex only.\n",
      "usage: pulmo-cristal [-h] [--version] [--verbose]\n",
      "                     {extract,list,convert,validate} ...\n",
      "\n",
      "Extract data from donor PDF documents.\n",
      "\n",
      "positional arguments:\n",
      "  {extract,list,convert,validate}\n",
      "                        Command to execute\n",
      "    extract             Extract data from PDF files\n",
      "    list                List PDF files in a directory\n",
      "    convert             Convert between output formats\n",
      "    validate            Validate extracted data\n",
      "\n",
      "options:\n",
      "  -h, --help            show this help message and exit\n",
      "  --version, -V         show program's version number and exit\n",
      "  --verbose, -v         Increase verbosity (can be used multiple times)\n",
      "                        (default: 0)\n"
     ]
    }
   ],
   "source": [
    "# View available commands\n",
    "!pulmo-cristal --help"
   ]
  },
  {
   "cell_type": "markdown",
   "metadata": {},
   "source": [
    "### Finding PDF Files\n",
    "First, let's see what PDF files we have available:"
   ]
  },
  {
   "cell_type": "code",
   "execution_count": 88,
   "metadata": {},
   "outputs": [
    {
     "name": "stdout",
     "output_type": "stream",
     "text": [
      "sample_pdfs/\n",
      "├── subfolder_test/\n",
      "│   └── patient_test_2.pdf\n",
      "├── patient_test_1.pdf\n",
      "└── patient_test_2.pdf\n",
      "\n",
      "Total: 1 directories, 3 files\n"
     ]
    }
   ],
   "source": [
    "from pulmo_cristal.utils import find_pdf_files, list_directory_tree\n",
    "import os\n",
    "\n",
    "# Set the path to your directory containing existing PDFs\n",
    "pdf_dir = \"./sample_pdfs\"  # Change this to your actual path\n",
    "\n",
    "# Print directory tree to see the structure\n",
    "tree = list_directory_tree(pdf_dir, max_depth=2, file_types=[\".pdf\"])\n",
    "print(tree)"
   ]
  },
  {
   "cell_type": "code",
   "execution_count": 89,
   "metadata": {},
   "outputs": [
    {
     "name": "stdout",
     "output_type": "stream",
     "text": [
      "Found 3 PDF files\n",
      "\n",
      "Sample of PDF files found:\n",
      "  - sample_pdfs/patient_test_1.pdf\n",
      "  - sample_pdfs/patient_test_2.pdf\n",
      "  - sample_pdfs/subfolder_test/patient_test_2.pdf\n"
     ]
    }
   ],
   "source": [
    "# Find all PDF files in the directory\n",
    "pdf_files = find_pdf_files(pdf_dir, recursive=True)\n",
    "print(f\"Found {len(pdf_files)} PDF files\")\n",
    "\n",
    "# Display the first few files\n",
    "if pdf_files:\n",
    "    print(\"\\nSample of PDF files found:\")\n",
    "    for pdf in pdf_files[:5]:\n",
    "        print(f\"  - {pdf}\")"
   ]
  },
  {
   "cell_type": "markdown",
   "metadata": {},
   "source": [
    "### Extracting Data from a PDF\n",
    "Now let's extract data from our sample PDF:"
   ]
  },
  {
   "cell_type": "code",
   "execution_count": 90,
   "metadata": {},
   "outputs": [
    {
     "name": "stderr",
     "output_type": "stream",
     "text": [
      "2025-04-08 15:19:23,904 - HLAExtractor - WARNING - Camelot not available. Will use regex-based extraction only.\n",
      "2025-04-08 15:19:23,906 - DonorPDFExtractor - INFO - Extracting text from PDF: sample_pdfs/patient_test_1.pdf\n"
     ]
    },
    {
     "name": "stdout",
     "output_type": "stream",
     "text": [
      "Processing: sample_pdfs/patient_test_1.pdf\n"
     ]
    },
    {
     "name": "stderr",
     "output_type": "stream",
     "text": [
      "2025-04-08 15:19:23,924 - DonorPDFExtractor - INFO - PDF contains 22 pages\n",
      "2025-04-08 15:19:23,972 - DonorPDFExtractor - INFO - Page 1/22: Extracted 1308 characters\n",
      "2025-04-08 15:19:23,973 - DonorPDFExtractor - INFO - Page 2/22: Extracted 147 characters\n",
      "2025-04-08 15:19:23,981 - DonorPDFExtractor - INFO - Page 3/22: Extracted 1549 characters\n",
      "2025-04-08 15:19:23,990 - DonorPDFExtractor - INFO - Page 4/22: Extracted 786 characters\n",
      "2025-04-08 15:19:23,995 - DonorPDFExtractor - INFO - Page 5/22: Extracted 425 characters\n",
      "2025-04-08 15:19:23,998 - DonorPDFExtractor - INFO - Page 6/22: Extracted 663 characters\n",
      "2025-04-08 15:19:24,003 - DonorPDFExtractor - INFO - Page 7/22: Extracted 608 characters\n",
      "2025-04-08 15:19:24,009 - DonorPDFExtractor - INFO - Page 8/22: Extracted 380 characters\n",
      "2025-04-08 15:19:24,019 - DonorPDFExtractor - INFO - Page 9/22: Extracted 1357 characters\n",
      "2025-04-08 15:19:24,025 - DonorPDFExtractor - INFO - Page 10/22: Extracted 415 characters\n",
      "2025-04-08 15:19:24,034 - DonorPDFExtractor - INFO - Page 11/22: Extracted 771 characters\n",
      "2025-04-08 15:19:24,044 - DonorPDFExtractor - INFO - Page 12/22: Extracted 723 characters\n",
      "2025-04-08 15:19:24,053 - DonorPDFExtractor - INFO - Page 13/22: Extracted 747 characters\n",
      "2025-04-08 15:19:24,063 - DonorPDFExtractor - INFO - Page 14/22: Extracted 962 characters\n",
      "2025-04-08 15:19:24,072 - DonorPDFExtractor - INFO - Page 15/22: Extracted 1222 characters\n",
      "2025-04-08 15:19:24,077 - DonorPDFExtractor - INFO - Page 16/22: Extracted 289 characters\n",
      "2025-04-08 15:19:24,093 - DonorPDFExtractor - INFO - Page 17/22: Extracted 910 characters\n",
      "2025-04-08 15:19:24,102 - DonorPDFExtractor - INFO - Page 18/22: Extracted 1483 characters\n",
      "2025-04-08 15:19:24,104 - DonorPDFExtractor - INFO - Page 19/22: Extracted 133 characters\n",
      "2025-04-08 15:19:24,129 - DonorPDFExtractor - INFO - Page 20/22: Extracted 1043 characters\n",
      "2025-04-08 15:19:24,138 - DonorPDFExtractor - INFO - Page 21/22: Extracted 863 characters\n",
      "2025-04-08 15:19:24,141 - DonorPDFExtractor - INFO - Page 22/22: Extracted 183 characters\n",
      "2025-04-08 15:19:24,141 - DonorPDFExtractor - INFO - Total extracted text: 17009 characters\n",
      "2025-04-08 15:19:24,143 - DonorPDFExtractor - WARNING - Pattern group 'serologies' not found. Skipping section.\n",
      "2025-04-08 15:19:24,143 - DonorPDFExtractor - WARNING - Pattern group 'morphologie' not found. Skipping section.\n",
      "2025-04-08 15:19:24,150 - HLAExtractor - INFO - Extracting HLA data from sample_pdfs/patient_test_1.pdf using original approach\n",
      "2025-04-08 15:19:24,322 - HLAExtractor - ERROR - Error in HLA extraction: 'NoneType' object has no attribute 'read_pdf'\n"
     ]
    },
    {
     "name": "stdout",
     "output_type": "stream",
     "text": [
      "\n",
      "Extracted Donor Information:\n",
      "  num_cristal: 235183\n",
      "  type_donneur: Donneur prélevé, organe greffé\n",
      "DDME\n",
      "  age: 64\n",
      "  sexe: M\n",
      "  groupe_sanguin: A  +\n",
      "  date_naissance: 03/08/1960\n",
      "  taille: 175\n",
      "  poids: 84.5\n",
      "  date_clampage: 16/02/2025\n",
      "  etiologie: Vasculaire\n",
      "  duree_ventilation: 2\n",
      "  hla_extraction_status: À VÉRIFIER MANUELLEMENT\n",
      "\n",
      "Extracted HLA Data:\n",
      "  A1: À AJOUTER\n",
      "  A2: À AJOUTER\n",
      "  B1: À AJOUTER\n",
      "  B2: À AJOUTER\n",
      "  C1: À AJOUTER\n",
      "  C2: À AJOUTER\n",
      "  DR1: À AJOUTER\n",
      "  DR2: À AJOUTER\n",
      "  DQB1: À AJOUTER\n",
      "  DQB2: À AJOUTER\n",
      "  DP1: À AJOUTER\n",
      "  DP2: À AJOUTER\n"
     ]
    }
   ],
   "source": [
    "from pulmo_cristal.extractors import DonorPDFExtractor, HLAExtractor\n",
    "import json\n",
    "\n",
    "# Select a sample PDF to process\n",
    "sample_pdf = pdf_files[0] if pdf_files else None\n",
    "\n",
    "if sample_pdf:\n",
    "    print(f\"Processing: {sample_pdf}\")\n",
    "    \n",
    "    # Initialize extractors\n",
    "    donor_extractor = DonorPDFExtractor()\n",
    "    hla_extractor = HLAExtractor()\n",
    "    \n",
    "    try:\n",
    "        # Extract donor data\n",
    "        donor_data = donor_extractor.extract_donor_data(sample_pdf)\n",
    "        \n",
    "        # Extract HLA data\n",
    "        hla_data, hla_status = hla_extractor.extract_hla_data(sample_pdf)\n",
    "        \n",
    "        # Add HLA data to donor data\n",
    "        donor_data[\"informations_donneur\"][\"hla\"] = hla_data\n",
    "        donor_data[\"informations_donneur\"][\"hla_extraction_status\"] = hla_status\n",
    "        \n",
    "        # Display extracted data\n",
    "        print(\"\\nExtracted Donor Information:\")\n",
    "        for key, value in donor_data[\"informations_donneur\"].items():\n",
    "            if key != \"hla\":  # Skip HLA for now\n",
    "                print(f\"  {key}: {value}\")\n",
    "        \n",
    "        print(\"\\nExtracted HLA Data:\")\n",
    "        for key, value in hla_data.items():\n",
    "            print(f\"  {key}: {value}\")\n",
    "    \n",
    "    except Exception as e:\n",
    "        print(f\"Error extracting data: {e}\")\n",
    "else:\n",
    "    print(\"No PDF files found to process\")"
   ]
  },
  {
   "cell_type": "markdown",
   "metadata": {},
   "source": [
    "### Converting to a Structured Model\n",
    "Convert the raw extracted data to a structured Donneur model:"
   ]
  },
  {
   "cell_type": "code",
   "execution_count": 91,
   "metadata": {},
   "outputs": [
    {
     "name": "stdout",
     "output_type": "stream",
     "text": [
      "Donor ID: 235183\n",
      "Donor Type: DonneurType.INCONNU\n",
      "Age: 64\n",
      "Sex: SexeType.HOMME\n",
      "\n",
      "Validation Result: Valid\n"
     ]
    }
   ],
   "source": [
    "from pulmo_cristal.models import Donneur\n",
    "\n",
    "if 'donor_data' in locals():\n",
    "    try:\n",
    "        # Convert to Donneur model\n",
    "        donneur = Donneur.from_dict(donor_data)\n",
    "        \n",
    "        # Display basic model information\n",
    "        print(f\"Donor ID: {donneur.id}\")\n",
    "        print(f\"Donor Type: {donneur.type_donneur}\")\n",
    "        print(f\"Age: {donneur.age}\")\n",
    "        print(f\"Sex: {donneur.sexe}\")\n",
    "        \n",
    "        # Validate the model\n",
    "        is_valid = donneur.validate()\n",
    "        print(f\"\\nValidation Result: {'Valid' if is_valid else 'Invalid'}\")\n",
    "        if not is_valid and hasattr(donneur, 'validation_errors'):\n",
    "            print(\"Validation Errors:\")\n",
    "            for error in donneur.validation_errors:\n",
    "                print(f\"  - {error}\")\n",
    "    except Exception as e:\n",
    "        print(f\"Error converting to model: {e}\")"
   ]
  },
  {
   "cell_type": "markdown",
   "metadata": {},
   "source": [
    "### Exporting Data to JSON and CSV\n",
    "Now let's export the extracted data to JSON and CSV formats:"
   ]
  },
  {
   "cell_type": "code",
   "execution_count": 92,
   "metadata": {},
   "outputs": [
    {
     "name": "stderr",
     "output_type": "stream",
     "text": [
      "2025-04-08 15:19:24,336 - DonorJSONExporter - INFO - JSON file generated successfully: output/donor_data_20250408_151924.json\n",
      "2025-04-08 15:19:24,338 - DonorCSVExporter - INFO - CSV file generated successfully: output/donor_data_20250408_151924.csv\n"
     ]
    },
    {
     "name": "stdout",
     "output_type": "stream",
     "text": [
      "Exported JSON to: ./output/donor_data.json\n",
      "Exported CSV to: ./output/donor_data.csv\n"
     ]
    }
   ],
   "source": [
    "from pulmo_cristal.exporters import DonorJSONExporter, DonorCSVExporter\n",
    "import os\n",
    "\n",
    "# Create output directory\n",
    "output_dir = \"./output\"\n",
    "os.makedirs(output_dir, exist_ok=True)\n",
    "\n",
    "if 'donor_data' in locals():\n",
    "    # Initialize exporters\n",
    "    json_exporter = DonorJSONExporter()\n",
    "    csv_exporter = DonorCSVExporter()\n",
    "    \n",
    "    try:\n",
    "        # Export to JSON\n",
    "        json_path = os.path.join(output_dir, \"donor_data.json\")\n",
    "        json_exporter.export_json([donor_data], json_path)\n",
    "        print(f\"Exported JSON to: {json_path}\")\n",
    "        \n",
    "        # Export to CSV\n",
    "        csv_path = os.path.join(output_dir, \"donor_data.csv\")\n",
    "        csv_exporter.export_csv([donor_data], csv_path)\n",
    "        print(f\"Exported CSV to: {csv_path}\")\n",
    "    except Exception as e:\n",
    "        print(f\"Error exporting data: {e}\")"
   ]
  },
  {
   "cell_type": "markdown",
   "metadata": {},
   "source": [
    "## Processing Multiple Files\n",
    "For processing all your existing PDFs in batches:"
   ]
  },
  {
   "cell_type": "code",
   "execution_count": 93,
   "metadata": {},
   "outputs": [
    {
     "name": "stderr",
     "output_type": "stream",
     "text": [
      "2025-04-08 15:19:24,346 - HLAExtractor - WARNING - Camelot not available. Will use regex-based extraction only.\n",
      "2025-04-08 15:19:24,347 - DonorPDFExtractor - INFO - Extracting text from PDF: sample_pdfs/patient_test_1.pdf\n",
      "2025-04-08 15:19:24,351 - DonorPDFExtractor - INFO - PDF contains 22 pages\n",
      "2025-04-08 15:19:24,367 - DonorPDFExtractor - INFO - Page 1/22: Extracted 1308 characters\n",
      "2025-04-08 15:19:24,369 - DonorPDFExtractor - INFO - Page 2/22: Extracted 147 characters\n",
      "2025-04-08 15:19:24,376 - DonorPDFExtractor - INFO - Page 3/22: Extracted 1549 characters\n",
      "2025-04-08 15:19:24,385 - DonorPDFExtractor - INFO - Page 4/22: Extracted 786 characters\n",
      "2025-04-08 15:19:24,389 - DonorPDFExtractor - INFO - Page 5/22: Extracted 425 characters\n",
      "2025-04-08 15:19:24,393 - DonorPDFExtractor - INFO - Page 6/22: Extracted 663 characters\n",
      "2025-04-08 15:19:24,398 - DonorPDFExtractor - INFO - Page 7/22: Extracted 608 characters\n",
      "2025-04-08 15:19:24,402 - DonorPDFExtractor - INFO - Page 8/22: Extracted 380 characters\n",
      "2025-04-08 15:19:24,412 - DonorPDFExtractor - INFO - Page 9/22: Extracted 1357 characters\n",
      "2025-04-08 15:19:24,418 - DonorPDFExtractor - INFO - Page 10/22: Extracted 415 characters\n",
      "2025-04-08 15:19:24,428 - DonorPDFExtractor - INFO - Page 11/22: Extracted 771 characters\n",
      "2025-04-08 15:19:24,453 - DonorPDFExtractor - INFO - Page 12/22: Extracted 723 characters\n",
      "2025-04-08 15:19:24,462 - DonorPDFExtractor - INFO - Page 13/22: Extracted 747 characters\n",
      "2025-04-08 15:19:24,471 - DonorPDFExtractor - INFO - Page 14/22: Extracted 962 characters\n",
      "2025-04-08 15:19:24,481 - DonorPDFExtractor - INFO - Page 15/22: Extracted 1222 characters\n",
      "2025-04-08 15:19:24,485 - DonorPDFExtractor - INFO - Page 16/22: Extracted 289 characters\n",
      "2025-04-08 15:19:24,500 - DonorPDFExtractor - INFO - Page 17/22: Extracted 910 characters\n",
      "2025-04-08 15:19:24,510 - DonorPDFExtractor - INFO - Page 18/22: Extracted 1483 characters\n",
      "2025-04-08 15:19:24,511 - DonorPDFExtractor - INFO - Page 19/22: Extracted 133 characters\n",
      "2025-04-08 15:19:24,521 - DonorPDFExtractor - INFO - Page 20/22: Extracted 1043 characters\n",
      "2025-04-08 15:19:24,531 - DonorPDFExtractor - INFO - Page 21/22: Extracted 863 characters\n"
     ]
    },
    {
     "name": "stdout",
     "output_type": "stream",
     "text": [
      "\n",
      "Processing batch 1/1\n"
     ]
    },
    {
     "name": "stderr",
     "output_type": "stream",
     "text": [
      "2025-04-08 15:19:24,533 - DonorPDFExtractor - INFO - Page 22/22: Extracted 183 characters\n",
      "2025-04-08 15:19:24,533 - DonorPDFExtractor - INFO - Total extracted text: 17009 characters\n",
      "2025-04-08 15:19:24,535 - DonorPDFExtractor - WARNING - Pattern group 'serologies' not found. Skipping section.\n",
      "2025-04-08 15:19:24,535 - DonorPDFExtractor - WARNING - Pattern group 'morphologie' not found. Skipping section.\n",
      "2025-04-08 15:19:24,542 - HLAExtractor - INFO - Extracting HLA data from sample_pdfs/patient_test_1.pdf using original approach\n",
      "2025-04-08 15:19:24,713 - HLAExtractor - ERROR - Error in HLA extraction: 'NoneType' object has no attribute 'read_pdf'\n",
      "2025-04-08 15:19:24,713 - DonorPDFExtractor - INFO - Extracting text from PDF: sample_pdfs/patient_test_2.pdf\n",
      "2025-04-08 15:19:24,717 - DonorPDFExtractor - INFO - PDF contains 23 pages\n",
      "2025-04-08 15:19:24,746 - DonorPDFExtractor - INFO - Page 1/23: Extracted 975 characters\n",
      "2025-04-08 15:19:24,750 - DonorPDFExtractor - INFO - Page 2/23: Extracted 642 characters\n",
      "2025-04-08 15:19:24,759 - DonorPDFExtractor - INFO - Page 3/23: Extracted 771 characters\n",
      "2025-04-08 15:19:24,768 - DonorPDFExtractor - INFO - Page 4/23: Extracted 1198 characters\n",
      "2025-04-08 15:19:24,772 - DonorPDFExtractor - INFO - Page 5/23: Extracted 366 characters\n",
      "2025-04-08 15:19:24,777 - DonorPDFExtractor - INFO - Page 6/23: Extracted 610 characters\n",
      "2025-04-08 15:19:24,784 - DonorPDFExtractor - INFO - Page 7/23: Extracted 806 characters\n",
      "2025-04-08 15:19:24,795 - DonorPDFExtractor - INFO - Page 8/23: Extracted 1097 characters\n",
      "2025-04-08 15:19:24,806 - DonorPDFExtractor - INFO - Page 9/23: Extracted 1269 characters\n",
      "2025-04-08 15:19:24,815 - DonorPDFExtractor - INFO - Page 10/23: Extracted 617 characters\n",
      "2025-04-08 15:19:24,823 - DonorPDFExtractor - INFO - Page 11/23: Extracted 706 characters\n",
      "2025-04-08 15:19:24,831 - DonorPDFExtractor - INFO - Page 12/23: Extracted 867 characters\n",
      "2025-04-08 15:19:24,840 - DonorPDFExtractor - INFO - Page 13/23: Extracted 1120 characters\n",
      "2025-04-08 15:19:24,844 - DonorPDFExtractor - INFO - Page 14/23: Extracted 474 characters\n",
      "2025-04-08 15:19:24,849 - DonorPDFExtractor - INFO - Page 15/23: Extracted 348 characters\n",
      "2025-04-08 15:19:24,855 - DonorPDFExtractor - INFO - Page 16/23: Extracted 844 characters\n",
      "2025-04-08 15:19:24,859 - DonorPDFExtractor - INFO - Page 17/23: Extracted 280 characters\n",
      "2025-04-08 15:19:24,860 - DonorPDFExtractor - INFO - Page 18/23: Extracted 85 characters\n",
      "2025-04-08 15:19:24,870 - DonorPDFExtractor - INFO - Page 19/23: Extracted 951 characters\n",
      "2025-04-08 15:19:24,894 - DonorPDFExtractor - INFO - Page 20/23: Extracted 804 characters\n",
      "2025-04-08 15:19:24,895 - DonorPDFExtractor - INFO - Page 21/23: Extracted 734 characters\n",
      "2025-04-08 15:19:24,898 - DonorPDFExtractor - INFO - Page 22/23: Extracted 243 characters\n",
      "2025-04-08 15:19:24,901 - DonorPDFExtractor - INFO - Page 23/23: Extracted 382 characters\n",
      "2025-04-08 15:19:24,902 - DonorPDFExtractor - INFO - Total extracted text: 16233 characters\n",
      "2025-04-08 15:19:24,904 - DonorPDFExtractor - WARNING - Pattern group 'serologies' not found. Skipping section.\n",
      "2025-04-08 15:19:24,904 - DonorPDFExtractor - WARNING - Pattern group 'morphologie' not found. Skipping section.\n",
      "2025-04-08 15:19:24,911 - HLAExtractor - INFO - Extracting HLA data from sample_pdfs/patient_test_2.pdf using original approach\n"
     ]
    },
    {
     "name": "stdout",
     "output_type": "stream",
     "text": [
      "✓ Processed: patient_test_1.pdf\n"
     ]
    },
    {
     "name": "stderr",
     "output_type": "stream",
     "text": [
      "2025-04-08 15:19:25,087 - HLAExtractor - ERROR - Error in HLA extraction: 'NoneType' object has no attribute 'read_pdf'\n",
      "2025-04-08 15:19:25,087 - DonorPDFExtractor - INFO - Extracting text from PDF: sample_pdfs/subfolder_test/patient_test_2.pdf\n",
      "2025-04-08 15:19:25,091 - DonorPDFExtractor - INFO - PDF contains 23 pages\n",
      "2025-04-08 15:19:25,105 - DonorPDFExtractor - INFO - Page 1/23: Extracted 975 characters\n",
      "2025-04-08 15:19:25,109 - DonorPDFExtractor - INFO - Page 2/23: Extracted 642 characters\n",
      "2025-04-08 15:19:25,118 - DonorPDFExtractor - INFO - Page 3/23: Extracted 771 characters\n",
      "2025-04-08 15:19:25,127 - DonorPDFExtractor - INFO - Page 4/23: Extracted 1198 characters\n",
      "2025-04-08 15:19:25,131 - DonorPDFExtractor - INFO - Page 5/23: Extracted 366 characters\n",
      "2025-04-08 15:19:25,136 - DonorPDFExtractor - INFO - Page 6/23: Extracted 610 characters\n",
      "2025-04-08 15:19:25,143 - DonorPDFExtractor - INFO - Page 7/23: Extracted 806 characters\n",
      "2025-04-08 15:19:25,153 - DonorPDFExtractor - INFO - Page 8/23: Extracted 1097 characters\n",
      "2025-04-08 15:19:25,165 - DonorPDFExtractor - INFO - Page 9/23: Extracted 1269 characters\n",
      "2025-04-08 15:19:25,189 - DonorPDFExtractor - INFO - Page 10/23: Extracted 617 characters\n",
      "2025-04-08 15:19:25,197 - DonorPDFExtractor - INFO - Page 11/23: Extracted 706 characters\n",
      "2025-04-08 15:19:25,206 - DonorPDFExtractor - INFO - Page 12/23: Extracted 867 characters\n",
      "2025-04-08 15:19:25,216 - DonorPDFExtractor - INFO - Page 13/23: Extracted 1120 characters\n",
      "2025-04-08 15:19:25,220 - DonorPDFExtractor - INFO - Page 14/23: Extracted 474 characters\n",
      "2025-04-08 15:19:25,226 - DonorPDFExtractor - INFO - Page 15/23: Extracted 348 characters\n",
      "2025-04-08 15:19:25,232 - DonorPDFExtractor - INFO - Page 16/23: Extracted 844 characters\n",
      "2025-04-08 15:19:25,236 - DonorPDFExtractor - INFO - Page 17/23: Extracted 280 characters\n",
      "2025-04-08 15:19:25,237 - DonorPDFExtractor - INFO - Page 18/23: Extracted 85 characters\n",
      "2025-04-08 15:19:25,247 - DonorPDFExtractor - INFO - Page 19/23: Extracted 951 characters\n",
      "2025-04-08 15:19:25,256 - DonorPDFExtractor - INFO - Page 20/23: Extracted 804 characters\n",
      "2025-04-08 15:19:25,258 - DonorPDFExtractor - INFO - Page 21/23: Extracted 734 characters\n",
      "2025-04-08 15:19:25,261 - DonorPDFExtractor - INFO - Page 22/23: Extracted 243 characters\n",
      "2025-04-08 15:19:25,264 - DonorPDFExtractor - INFO - Page 23/23: Extracted 382 characters\n",
      "2025-04-08 15:19:25,265 - DonorPDFExtractor - INFO - Total extracted text: 16233 characters\n",
      "2025-04-08 15:19:25,267 - DonorPDFExtractor - WARNING - Pattern group 'serologies' not found. Skipping section.\n",
      "2025-04-08 15:19:25,267 - DonorPDFExtractor - WARNING - Pattern group 'morphologie' not found. Skipping section.\n",
      "2025-04-08 15:19:25,274 - HLAExtractor - INFO - Extracting HLA data from sample_pdfs/subfolder_test/patient_test_2.pdf using original approach\n"
     ]
    },
    {
     "name": "stdout",
     "output_type": "stream",
     "text": [
      "✓ Processed: patient_test_2.pdf\n"
     ]
    },
    {
     "name": "stderr",
     "output_type": "stream",
     "text": [
      "2025-04-08 15:19:25,447 - HLAExtractor - ERROR - Error in HLA extraction: 'NoneType' object has no attribute 'read_pdf'\n",
      "2025-04-08 15:19:25,448 - DonorJSONExporter - INFO - JSON file generated successfully: output/all_donors_20250408_151925.json\n",
      "2025-04-08 15:19:25,449 - DonorCSVExporter - INFO - CSV file generated successfully: output/all_donors_20250408_151925.csv\n"
     ]
    },
    {
     "name": "stdout",
     "output_type": "stream",
     "text": [
      "✓ Processed: patient_test_2.pdf\n",
      "\n",
      "Processing complete:\n",
      "  - Total files: 3\n",
      "  - Successful: 3\n",
      "  - Failed: 0\n",
      "  - Total time: 1.10 seconds\n",
      "  - Avg time per file: 0.37 seconds\n",
      "Exported all data to JSON: ./output/all_donors.json\n",
      "Exported all data to CSV: ./output/all_donors.csv\n"
     ]
    }
   ],
   "source": [
    "from pulmo_cristal.utils import batch_process_files\n",
    "import time\n",
    "\n",
    "if pdf_files:\n",
    "    # Initialize extractors\n",
    "    donor_extractor = DonorPDFExtractor()\n",
    "    hla_extractor = HLAExtractor()\n",
    "    \n",
    "    # Initialize exporters\n",
    "    json_exporter = DonorJSONExporter()\n",
    "    \n",
    "    # Process in batches\n",
    "    all_data = []\n",
    "    successful = 0\n",
    "    failed = 0\n",
    "    start_time = time.time()\n",
    "    \n",
    "    # Define batch size\n",
    "    batch_size = 5  # Adjust based on your needs\n",
    "    \n",
    "    for batch_idx, batch in enumerate(batch_process_files(pdf_files, batch_size=batch_size)):\n",
    "        print(f\"\\nProcessing batch {batch_idx+1}/{(len(pdf_files) + batch_size - 1) // batch_size}\")\n",
    "        batch_data = []\n",
    "        \n",
    "        for pdf_file in batch:\n",
    "            try:\n",
    "                # Extract donor data\n",
    "                donor_data = donor_extractor.extract_donor_data(pdf_file)\n",
    "                \n",
    "                # Extract HLA data\n",
    "                hla_data, status = hla_extractor.extract_hla_data(pdf_file)\n",
    "                donor_data[\"informations_donneur\"][\"hla\"] = hla_data\n",
    "                donor_data[\"informations_donneur\"][\"hla_extraction_status\"] = status\n",
    "                \n",
    "                # Add to batch\n",
    "                batch_data.append(donor_data)\n",
    "                successful += 1\n",
    "                print(f\"✓ Processed: {pdf_file.name}\")\n",
    "            except Exception as e:\n",
    "                failed += 1\n",
    "                print(f\"✗ Error processing {pdf_file.name}: {e}\")\n",
    "        \n",
    "        # Add batch to all data\n",
    "        all_data.extend(batch_data)\n",
    "        \n",
    "        # Save intermediate results\n",
    "        if batch_data and (batch_idx + 1) % 2 == 0:  # Save every 2 batches\n",
    "            interim_path = os.path.join(output_dir, f\"donors_interim_batch_{batch_idx+1}.json\")\n",
    "            try:\n",
    "                json_exporter.export_json(all_data, interim_path)\n",
    "                print(f\"Saved interim results to: {interim_path}\")\n",
    "            except Exception as e:\n",
    "                print(f\"Error saving interim results: {e}\")\n",
    "    \n",
    "    end_time = time.time()\n",
    "    elapsed_time = end_time - start_time\n",
    "    \n",
    "    print(f\"\\nProcessing complete:\")\n",
    "    print(f\"  - Total files: {len(pdf_files)}\")\n",
    "    print(f\"  - Successful: {successful}\")\n",
    "    print(f\"  - Failed: {failed}\")\n",
    "    print(f\"  - Total time: {elapsed_time:.2f} seconds\")\n",
    "    print(f\"  - Avg time per file: {elapsed_time/len(pdf_files):.2f} seconds\")\n",
    "    \n",
    "    # Export all data\n",
    "    if all_data:\n",
    "        final_json_path = os.path.join(output_dir, \"all_donors.json\")\n",
    "        final_csv_path = os.path.join(output_dir, \"all_donors.csv\")\n",
    "        \n",
    "        try:\n",
    "            # Export to JSON\n",
    "            json_exporter.export_json(all_data, final_json_path)\n",
    "            print(f\"Exported all data to JSON: {final_json_path}\")\n",
    "            \n",
    "            # Export to CSV\n",
    "            csv_exporter = DonorCSVExporter()\n",
    "            csv_exporter.export_csv(all_data, final_csv_path)\n",
    "            print(f\"Exported all data to CSV: {final_csv_path}\")\n",
    "        except Exception as e:\n",
    "            print(f\"Error exporting final data: {e}\")\n",
    "else:\n",
    "    print(\"No PDF files found to process\")"
   ]
  },
  {
   "cell_type": "markdown",
   "metadata": {},
   "source": [
    "### Using the Command Line Interface with Your Existing PDFs\n",
    "The package also provides a command-line interface which might be easier for batch processing:"
   ]
  },
  {
   "cell_type": "code",
   "execution_count": 94,
   "metadata": {},
   "outputs": [
    {
     "name": "stdout",
     "output_type": "stream",
     "text": [
      "/Users/sarrabenyahia/Documents/GitHub/pulmo-cristal/venv/lib/python3.11/site-packages/pypdf/_crypt_providers/_cryptography.py:32: CryptographyDeprecationWarning: ARC4 has been moved to cryptography.hazmat.decrepit.ciphers.algorithms.ARC4 and will be removed from cryptography.hazmat.primitives.ciphers.algorithms in 48.0.0.\n",
      "  from cryptography.hazmat.primitives.ciphers.algorithms import AES, ARC4\n",
      "Warning: camelot-py not installed. HLA extraction will use regex only.\n",
      "2025-04-08 15:19:26 - pulmo_cristal - ERROR - Error in HLA extraction: 'NoneType' object has no attribute 'read_pdf'\n",
      "2025-04-08 15:19:26 - pulmo_cristal - ERROR - Error in HLA extraction: 'NoneType' object has no attribute 'read_pdf'\n",
      "2025-04-08 15:19:26 - pulmo_cristal - ERROR - Error in HLA extraction: 'NoneType' object has no attribute 'read_pdf'\n"
     ]
    }
   ],
   "source": [
    "# Extract data from all PDFs using the CLI\n",
    "!pulmo-cristal extract --input {pdf_dir} --output {output_dir} --format both --recursive"
   ]
  },
  {
   "cell_type": "code",
   "execution_count": 95,
   "metadata": {},
   "outputs": [
    {
     "name": "stdout",
     "output_type": "stream",
     "text": [
      "/Users/sarrabenyahia/Documents/GitHub/pulmo-cristal/venv/lib/python3.11/site-packages/pypdf/_crypt_providers/_cryptography.py:32: CryptographyDeprecationWarning: ARC4 has been moved to cryptography.hazmat.decrepit.ciphers.algorithms.ARC4 and will be removed from cryptography.hazmat.primitives.ciphers.algorithms in 48.0.0.\n",
      "  from cryptography.hazmat.primitives.ciphers.algorithms import AES, ARC4\n",
      "Warning: camelot-py not installed. HLA extraction will use regex only.\n",
      "sample_pdfs/\n",
      "├── subfolder_test/\n",
      "│   └── patient_test_2.pdf\n",
      "├── patient_test_1.pdf\n",
      "└── patient_test_2.pdf\n",
      "\n",
      "Total: 1 directories, 3 files\n"
     ]
    }
   ],
   "source": [
    "# List PDF files in your directory\n",
    "!pulmo-cristal list --input {pdf_dir} --recursive"
   ]
  }
 ],
 "metadata": {
  "kernelspec": {
   "display_name": "venv",
   "language": "python",
   "name": "python3"
  },
  "language_info": {
   "codemirror_mode": {
    "name": "ipython",
    "version": 3
   },
   "file_extension": ".py",
   "mimetype": "text/x-python",
   "name": "python",
   "nbconvert_exporter": "python",
   "pygments_lexer": "ipython3",
   "version": "3.11.10"
  }
 },
 "nbformat": 4,
 "nbformat_minor": 2
}
